{
 "cells": [
  {
   "cell_type": "markdown",
   "id": "5147b6da-30b0-4164-8cac-018b191a2fce",
   "metadata": {},
   "source": [
    "# Agentic RAG"
   ]
  },
  {
   "cell_type": "markdown",
   "id": "752a3dff-4159-446e-b0cc-3c3c61a5ea61",
   "metadata": {},
   "source": [
    "### GET ENVs"
   ]
  },
  {
   "cell_type": "code",
   "execution_count": 1,
   "id": "fa42676e-01f3-4b5e-84ab-6f4c216df9dc",
   "metadata": {},
   "outputs": [],
   "source": [
    "dotenv_path = 'D:\\\\Dhananjay\\\\Pro\\\\DCode\\\\MyAIPractice\\\\.env'\n",
    "\n",
    "# import dotenv\n",
    "import os\n",
    "from dotenv import load_dotenv\n",
    "# Load environment variables\n",
    "load_dotenv(dotenv_path)\n",
    "\n",
    "GEMINI_API_KEY = os.getenv(\"GEMINI_API_KEY\")\n",
    "GEMINI_LLM_MODEL_NAME = os.getenv(\"GEMINI_LLM_MODEL_NAME\")\n",
    "GEMINI_EMBEDDING_MODEL_NAME = os.getenv(\"GEMINI_EMBEDDING_MODEL_NAME\")\n",
    "# GEMINI_LLM_MODEL_NAME = \"gemini-2.5-pro-exp-03-25\"\n",
    "# GEMINI_EMBEDDING_MODEL_NAME = \"gemini-embedding-exp-03-07\"\n",
    "\n"
   ]
  },
  {
   "cell_type": "markdown",
   "id": "03497fcb-2bb5-4d2e-a6b3-d6ff01247071",
   "metadata": {},
   "source": [
    "# Initialize Models"
   ]
  },
  {
   "cell_type": "markdown",
   "id": "4b8bbdce-5265-4578-b95d-6a05230b3ffd",
   "metadata": {},
   "source": [
    "### Initialize Embeddings Model (Google Gemini)"
   ]
  },
  {
   "cell_type": "code",
   "execution_count": 2,
   "id": "abbfee5a-b939-4b89-acdb-d2beaefb8bd0",
   "metadata": {},
   "outputs": [],
   "source": [
    "# Initialize Embeddings Model (Google Gemini)\n",
    "\n",
    "from langchain_google_genai import GoogleGenerativeAIEmbeddings\n",
    "\n",
    "def get_embedding_model():\n",
    "    \"\"\"\n",
    "    Returns the configured embedding model for vector storage and retrieval.\n",
    "    \"\"\"\n",
    "    google_embedding = GoogleGenerativeAIEmbeddings(\n",
    "        model=GEMINI_EMBEDDING_MODEL_NAME,\n",
    "        google_api_key=GEMINI_API_KEY\n",
    "    )\n",
    "\n",
    "    return google_embedding"
   ]
  },
  {
   "cell_type": "markdown",
   "id": "a1dee081-3448-4d36-80a1-45d293c57e4a",
   "metadata": {},
   "source": [
    "### Initialize LLM (Google Gemini)\n"
   ]
  },
  {
   "cell_type": "code",
   "execution_count": 3,
   "id": "d313e66c-1ff8-4372-829d-b135e7255929",
   "metadata": {},
   "outputs": [],
   "source": [
    "# Initialize LLM (Google Gemini)\n",
    "from langchain_google_genai import ChatGoogleGenerativeAI\n",
    "\n",
    "def get_llm_model():\n",
    "\n",
    "    \"\"\"\n",
    "    Returns the configured llm model for text generation.\n",
    "    \"\"\"\n",
    "    gemini_2_5 = ChatGoogleGenerativeAI(google_api_key=GEMINI_API_KEY, \n",
    "                                        model=GEMINI_LLM_MODEL_NAME,\n",
    "                                        temprature = 0,\n",
    "                                        streaming=True)\n",
    "\n",
    "    return gemini_2_5\n"
   ]
  },
  {
   "cell_type": "code",
   "execution_count": 4,
   "id": "92ef67c1-387c-4d58-b284-37c9fd6fed0c",
   "metadata": {},
   "outputs": [
    {
     "data": {
      "text/plain": [
       "AIMessage(content='I am a large language model, trained by Google.', additional_kwargs={}, response_metadata={'prompt_feedback': {'block_reason': 0, 'safety_ratings': []}, 'finish_reason': 'STOP', 'safety_ratings': []}, id='run-be9694a4-868c-47ed-b0fd-d049a5a015f0-0', usage_metadata={'input_tokens': 4, 'output_tokens': 12, 'total_tokens': 16, 'input_token_details': {'cache_read': 0}})"
      ]
     },
     "execution_count": 4,
     "metadata": {},
     "output_type": "execute_result"
    },
    {
     "name": "stderr",
     "output_type": "stream",
     "text": [
      "Failed to send compressed multipart ingest: Connection error caused failure to POST https://api.smith.langchain.com/runs/multipart in LangSmith API. Please confirm your internet connection. ConnectionError(MaxRetryError('HTTPSConnectionPool(host=\\'api.smith.langchain.com\\', port=443): Max retries exceeded with url: /runs/multipart (Caused by NameResolutionError(\"<urllib3.connection.HTTPSConnection object at 0x000002582E6EFAD0>: Failed to resolve \\'api.smith.langchain.com\\' ([Errno 11001] getaddrinfo failed)\"))'))\n",
      "Content-Length: 1011\n",
      "API Key: lsv2_********************************************98\n"
     ]
    }
   ],
   "source": [
    "get_llm_model().invoke(\"who are you?\")"
   ]
  },
  {
   "cell_type": "markdown",
   "id": "8d500f9a-2394-4dc9-aadc-276534d07832",
   "metadata": {},
   "source": [
    "## Load and Chunk Documents"
   ]
  },
  {
   "cell_type": "code",
   "execution_count": 5,
   "id": "0d00eacc-55b0-4400-a33f-c459d2cd75ca",
   "metadata": {},
   "outputs": [],
   "source": [
    "\n",
    "from langchain.text_splitter import RecursiveCharacterTextSplitter\n",
    "from langchain_community.document_loaders import UnstructuredWordDocumentLoader\n",
    "\n",
    "\n",
    "def load_and_chunk_document(docx_path):\n",
    "    \"\"\"Loads document and intelligently chunks while preserving section integrity.\"\"\"\n",
    "    loader = UnstructuredWordDocumentLoader(docx_path, mode=\"elements\")\n",
    "    data = loader.load()\n",
    "\n",
    "    # Extract text and clean it\n",
    "    text = \"\\n\".join([chunk.page_content.strip() for chunk in data if chunk.page_content.strip()])\n",
    "\n",
    "    #  chunking\n",
    "    text_splitter = RecursiveCharacterTextSplitter(\n",
    "        chunk_size=500,  # Large enough to capture a full clause\n",
    "        chunk_overlap=200,  # Overlap to prevent split clauses\n",
    "        separators=[\"\\n\\n\", \"\\n\", \". \", \" \"],  # Prefer splitting at paragraphs or sentences\n",
    "    )\n",
    "    \n",
    "    chunks = text_splitter.split_text(text)\n",
    "    \n",
    "    return chunks\n",
    "\n",
    "# Load and chunk document\n",
    "docx_path = \"contract_interview.docx\"\n",
    "document_chunks = load_and_chunk_document(docx_path)\n",
    "\n",
    "\n",
    "\n"
   ]
  },
  {
   "cell_type": "markdown",
   "id": "cd9bbb73-8a84-4cf2-8fbb-d89c8fa8a01c",
   "metadata": {},
   "source": [
    "### Convert chunks to Langchain Documents"
   ]
  },
  {
   "cell_type": "code",
   "execution_count": 6,
   "id": "51b12230-57c7-45d1-bc0f-c7cc9ca7d479",
   "metadata": {},
   "outputs": [],
   "source": [
    " from langchain_core.documents import Document\n",
    "\n",
    "# Convert text chunks to LangChain Document objects\n",
    "documents = [Document(page_content=chunk) for chunk in document_chunks]\n"
   ]
  },
  {
   "cell_type": "markdown",
   "id": "b96f9a08-fd87-41e1-bc40-6645c83f4b15",
   "metadata": {},
   "source": [
    "# Retriever"
   ]
  },
  {
   "cell_type": "markdown",
   "id": "bf025e8b-11fc-446e-9393-b800bfa8b9a1",
   "metadata": {},
   "source": [
    "First, we index the Docuemnts.\n",
    "\n",
    "Then we create a retriever tool."
   ]
  },
  {
   "cell_type": "markdown",
   "id": "bbb3b5c4-8a99-4a22-b274-c5066b516687",
   "metadata": {},
   "source": [
    "## Add Documents to vectorDB"
   ]
  },
  {
   "cell_type": "code",
   "execution_count": 8,
   "id": "f04d7206-f013-4c7b-9321-1ed8bb62c557",
   "metadata": {},
   "outputs": [],
   "source": [
    "# Add to vectorDB\n",
    "\n",
    "from langchain_community.vectorstores import Chroma\n",
    "\n",
    "\n",
    "vectorstore = Chroma.from_documents(\n",
    "    documents=documents,\n",
    "    collection_name=\"legal-contract-chroma\",\n",
    "    embedding=get_embedding_model(),\n",
    "    persist_directory=\"./chroma_langchain_db\",  #  save data locally\n",
    "\n",
    ")\n",
    "\n",
    "vector_store_retriever = vectorstore.as_retriever()"
   ]
  },
  {
   "cell_type": "code",
   "execution_count": null,
   "id": "7fe68a50-f067-4bf4-b625-13b448264e64",
   "metadata": {},
   "outputs": [],
   "source": []
  },
  {
   "cell_type": "markdown",
   "id": "192234b5-7d46-42ae-99ec-1973dd7eb427",
   "metadata": {},
   "source": [
    "### Create Retriever Tool"
   ]
  },
  {
   "cell_type": "code",
   "execution_count": 52,
   "id": "36cb375e-32de-4c6c-b19a-9e7decdaf8ba",
   "metadata": {},
   "outputs": [
    {
     "name": "stdout",
     "output_type": "stream",
     "text": [
      "6.7 Adverse Events.\n",
      "(a) Definition. For the purposes of this Agreement, “Adverse Event” shall mean any adverse event associated with the use of the Product in humans, whether or not considered drug-related, including but not limited to “adverse event” as defined in ICH guidelines.\n",
      "\n",
      "6.7 Adverse Events.\n",
      "(a) Definition. For the purposes of this Agreement, “Adverse Event” shall mean any adverse event associated with the use of the Product in humans, whether or not considered drug-related, including but not limited to “adverse event” as defined in ICH guidelines.\n",
      "\n",
      "6.7 Adverse Events.\n",
      "(a) Definition. For the purposes of this Agreement, “Adverse Event” shall mean any adverse event associated with the use of the Product in humans, whether or not considered drug-related, including but not limited to “adverse event” as defined in ICH guidelines.\n",
      "\n",
      "6.7 Adverse Events.\n",
      "(a) Definition. For the purposes of this Agreement, “Adverse Event” shall mean any adverse event associated with the use of the Product in humans, whether or not considered drug-related, including but not limited to “adverse event” as defined in ICH guidelines.\n"
     ]
    }
   ],
   "source": [
    "from langchain.tools.retriever import create_retriever_tool\n",
    "\n",
    "# Create a retriever tool to extract clauses\n",
    "retriever_tool = create_retriever_tool(\n",
    "    vector_store_retriever,  \n",
    "    \"retrieve_information\",\n",
    "    \"Search and return information\"\n",
    ")\n",
    "\n",
    "# Define tools list\n",
    "tools = [retriever_tool]\n",
    "\n",
    "# Example usage (if integrated in an agent-based workflow)\n",
    "result = retriever_tool.invoke(\"What is the meaning of 'Adverse Event' in the context of this agreement?\")\n",
    "print(result)\n"
   ]
  },
  {
   "cell_type": "markdown",
   "id": "fc34e083-2096-45ed-a01f-7bf40ee7c5f1",
   "metadata": {},
   "source": [
    "# Agent State"
   ]
  },
  {
   "cell_type": "markdown",
   "id": "bc8fafa5-f185-4c64-a125-7e60b040709c",
   "metadata": {},
   "source": [
    "We will define a graph.\n",
    "\n",
    "A `state` object that it passes around to each `node`.\n",
    "\n",
    "Our state will be a list of `messages`.\n",
    "\n",
    "Each `node` in our graph will append to it."
   ]
  },
  {
   "cell_type": "code",
   "execution_count": 10,
   "id": "3eaf1744-d04c-4a79-b17a-6e979a5a1f7c",
   "metadata": {},
   "outputs": [],
   "source": [
    "from typing import Annotated, Sequence\n",
    "from typing_extensions import TypedDict\n",
    "\n",
    "from langchain_core.messages import BaseMessage\n",
    "\n",
    "from langgraph.graph.message import add_messages\n",
    "\n",
    "\n",
    "class AgentState(TypedDict):\n",
    "    # The add_messages function defines how an update should be processed\n",
    "    # Default is to replace. add_messages says \"append\"\n",
    "    messages: Annotated[Sequence[BaseMessage], add_messages]"
   ]
  },
  {
   "cell_type": "code",
   "execution_count": null,
   "id": "2559eaea-4916-442c-82ee-a1540abdc39c",
   "metadata": {},
   "outputs": [],
   "source": []
  },
  {
   "cell_type": "markdown",
   "id": "b6dd8cd2-1aed-4fb5-b368-b155b9de2aa3",
   "metadata": {},
   "source": [
    "# Nodes and Edges"
   ]
  },
  {
   "cell_type": "code",
   "execution_count": null,
   "id": "9e0fa49b-5f67-4a67-9320-402075e82179",
   "metadata": {},
   "outputs": [],
   "source": []
  },
  {
   "cell_type": "code",
   "execution_count": 11,
   "id": "8af71b96-5ae4-42e4-835e-d2a63df806cb",
   "metadata": {},
   "outputs": [
    {
     "data": {
      "image/png": "[encoded data removed]",
      "text/plain": [
       "<PIL.PngImagePlugin.PngImageFile image mode=RGBA size=1615x589>"
      ]
     },
     "metadata": {},
     "output_type": "display_data"
    }
   ],
   "source": [
    "from IPython.display import display\n",
    "from PIL import Image\n",
    "\n",
    "# Load and display an image\n",
    "img = Image.open(\"Nodes_and_Edges.png\")  # Replace with your image path\n",
    "display(img)\n"
   ]
  },
  {
   "cell_type": "code",
   "execution_count": 36,
   "id": "401cc085-4134-4d44-9878-1eb32945468b",
   "metadata": {},
   "outputs": [
    {
     "name": "stdout",
     "output_type": "stream",
     "text": [
      "********************Prompt[rlm/rag-prompt]********************\n",
      "================================\u001b[1m Human Message \u001b[0m=================================\n",
      "\n",
      "You are an assistant for question-answering tasks. Use the following pieces of retrieved context to answer the question. If you don't know the answer, just say that you don't know. Use three sentences maximum and keep the answer concise.\n",
      "Question: \u001b[33;1m\u001b[1;3m{question}\u001b[0m \n",
      "Context: \u001b[33;1m\u001b[1;3m{context}\u001b[0m \n",
      "Answer:\n"
     ]
    }
   ],
   "source": [
    "from typing import Annotated, Literal, Sequence\n",
    "from typing_extensions import TypedDict\n",
    "\n",
    "from langchain import hub\n",
    "from langchain_core.messages import BaseMessage, HumanMessage\n",
    "from langchain_core.output_parsers import StrOutputParser\n",
    "from langchain_core.prompts import PromptTemplate\n",
    "from langchain_openai import ChatOpenAI\n",
    "\n",
    "from pydantic import BaseModel, Field\n",
    "\n",
    "\n",
    "from langgraph.prebuilt import tools_condition\n",
    "\n",
    "### Edges\n",
    "\n",
    "\n",
    "def grade_documents(state) -> Literal[\"generate\", \"rewrite\"]:\n",
    "    \"\"\"\n",
    "    Determines whether the retrieved documents are relevant to the question.\n",
    "\n",
    "    Args:\n",
    "        state (messages): The current state\n",
    "\n",
    "    Returns:\n",
    "        str: A decision for whether the documents are relevant or not\n",
    "    \"\"\"\n",
    "\n",
    "    print(\"---CHECK RELEVANCE---\")\n",
    "\n",
    "    # Data model\n",
    "    class grade(BaseModel):\n",
    "        \"\"\"Binary score for relevance check.\"\"\"\n",
    "\n",
    "        binary_score: str = Field(description=\"Relevance score 'yes' or 'no'\")\n",
    "\n",
    "    # LLM\n",
    "    # model = ChatOpenAI(temperature=0, model=\"gpt-4o\", streaming=True)\n",
    "    llm = get_llm_model()\n",
    "    \n",
    "\n",
    "    # LLM with tool and validation\n",
    "    llm_with_tool = llm.with_structured_output(grade)\n",
    "\n",
    "    # Prompt\n",
    "    prompt = PromptTemplate(\n",
    "        template=\"\"\"You are a grader assessing relevance of a retrieved document to a user question. \\n \n",
    "        Here is the retrieved document: \\n\\n {context} \\n\\n\n",
    "        Here is the user question: {question} \\n\n",
    "        If the document contains keyword(s) or semantic meaning related to the user question, grade it as relevant. \\n\n",
    "        Give a binary score 'yes' or 'no' score to indicate whether the document is relevant to the question.\"\"\",\n",
    "        input_variables=[\"context\", \"question\"],\n",
    "    )\n",
    "\n",
    "    # Chain\n",
    "    chain = prompt | llm_with_tool\n",
    "\n",
    "    messages = state[\"messages\"]\n",
    "    last_message = messages[-1]\n",
    "\n",
    "    question = messages[0].content\n",
    "    docs = last_message.content\n",
    "\n",
    "    scored_result = chain.invoke({\"question\": question, \"context\": docs})\n",
    "\n",
    "    score = scored_result.binary_score\n",
    "\n",
    "    if score == \"yes\":\n",
    "        print(\"---DECISION: DOCS RELEVANT---\")\n",
    "        return \"generate\"\n",
    "\n",
    "    else:\n",
    "        print(\"---DECISION: DOCS NOT RELEVANT---\")\n",
    "        print(score)\n",
    "        return \"rewrite\"\n",
    "\n",
    "\n",
    "### Nodes\n",
    "\n",
    "\n",
    "def agent(state):\n",
    "    \"\"\"\n",
    "    Invokes the agent model to generate a response based on the current state. Given\n",
    "    the question, it will decide to retrieve using the retriever tool, or simply end.\n",
    "\n",
    "    Args:\n",
    "        state (messages): The current state\n",
    "\n",
    "    Returns:\n",
    "        dict: The updated state with the agent response appended to messages\n",
    "    \"\"\"\n",
    "    print(\"---CALL AGENT---\")\n",
    "    messages = state[\"messages\"]\n",
    "    # model = ChatOpenAI(temperature=0, streaming=True, model=\"gpt-4-turbo\")\n",
    "    llm = get_llm_model()\n",
    "    model = llm.bind_tools(tools)\n",
    "    response = model.invoke(messages)\n",
    "    # We return a list, because this will get added to the existing list\n",
    "    return {\"messages\": [response]}\n",
    "\n",
    "\n",
    "def rewrite(state):\n",
    "    \"\"\"\n",
    "    Transform the query to produce a better question.\n",
    "\n",
    "    Args:\n",
    "        state (messages): The current state\n",
    "\n",
    "    Returns:\n",
    "        dict: The updated state with re-phrased question\n",
    "    \"\"\"\n",
    "\n",
    "    print(\"---TRANSFORM QUERY---\")\n",
    "    messages = state[\"messages\"]\n",
    "    question = messages[0].content\n",
    "\n",
    "    msg = [\n",
    "        HumanMessage(\n",
    "            content=f\"\"\" \\n \n",
    "    Look at the input and try to reason about the underlying semantic intent / meaning. \\n \n",
    "    Here is the initial question:\n",
    "    \\n ------- \\n\n",
    "    {question} \n",
    "    \\n ------- \\n\n",
    "    Formulate an improved question: \"\"\",\n",
    "        )\n",
    "    ]\n",
    "\n",
    "    # Grader\n",
    "    # model = ChatOpenAI(temperature=0, model=\"gpt-4-0125-preview\", streaming=True)\n",
    "    llm = get_llm_model()\n",
    "    \n",
    "    response = llm.invoke(msg)\n",
    "    return {\"messages\": [response]}\n",
    "\n",
    "\n",
    "\n",
    "def generate1(state):\n",
    "    \"\"\"\n",
    "    Generate an AI response based on retrieved documents.\n",
    "    \"\"\"\n",
    "\n",
    "    print(\"---GENERATE---\")\n",
    "    messages = state[\"messages\"]\n",
    "    question = messages[0].content\n",
    "    last_message = messages[-1]\n",
    "\n",
    "    docs = last_message.content  # Retrieved text\n",
    "\n",
    "    # Ensure docs are not empty\n",
    "    if not docs.strip():\n",
    "        return {\"messages\": [AIMessage(content=\"No relevant information was found in the document.\")]}\n",
    "\n",
    "    # Prompt for LLM\n",
    "    prompt_template = \"\"\"\n",
    "    You are a legal contract assistant. A user asked about a clause in a contract.  \n",
    "    The retrieved text from the contract is below:  \n",
    "      \n",
    "    ---------  \n",
    "    {context}  \n",
    "    ---------  \n",
    "\n",
    "    Based on this, answer the user's question concisely and clearly.  \n",
    "    If needed, summarize the retrieved text in simple terms.\n",
    "    \"\"\"\n",
    "\n",
    "    formatted_prompt = prompt_template.format(context=docs)\n",
    "\n",
    "    # Use Gemini to generate a response\n",
    "    llm = get_llm_model()\n",
    "    response = llm.invoke([HumanMessage(content=formatted_prompt)])\n",
    "\n",
    "    return {\"messages\": [AIMessage(content=response.content)]}\n",
    "\n",
    "\n",
    "def generate(state):\n",
    "    \"\"\"\n",
    "    Generate answer\n",
    "\n",
    "    Args:\n",
    "        state (messages): The current state\n",
    "\n",
    "    Returns:\n",
    "         dict: The updated state with re-phrased question\n",
    "    \"\"\"\n",
    "    print(\"---GENERATE---\")\n",
    "    messages = state[\"messages\"]\n",
    "    question = messages[0].content\n",
    "    last_message = messages[-1]\n",
    "\n",
    "    docs = last_message.content\n",
    "\n",
    "    # Prompt\n",
    "    prompt = hub.pull(\"rlm/rag-prompt\")\n",
    "\n",
    "    # LLM\n",
    "    # llm = ChatOpenAI(model_name=\"gpt-4o-mini\", temperature=0, streaming=True)\n",
    "    llm = get_llm_model()\n",
    "\n",
    "    # Post-processing\n",
    "    def format_docs(docs):\n",
    "        return \"\\n\\n\".join(doc.page_content for doc in docs)\n",
    "\n",
    "    # Chain\n",
    "    rag_chain = prompt | llm | StrOutputParser()\n",
    "\n",
    "    # Run\n",
    "    response = rag_chain.invoke({\"context\": docs, \"question\": question})\n",
    "    return {\"messages\": [response]}\n",
    "\n",
    "\n",
    "print(\"*\" * 20 + \"Prompt[rlm/rag-prompt]\" + \"*\" * 20)\n",
    "prompt = hub.pull(\"rlm/rag-prompt\").pretty_print()  # Show what the prompt looks like"
   ]
  },
  {
   "cell_type": "markdown",
   "id": "36a26166-5cfd-4bd3-a95e-e105614abf54",
   "metadata": {},
   "source": [
    "# Graph"
   ]
  },
  {
   "cell_type": "markdown",
   "id": "e4610f8a-b220-48ca-a7fd-aa145f33b86e",
   "metadata": {},
   "source": [
    "Start with an agent, call_model\n",
    "\n",
    "Agent make a decision to call a function\n",
    "\n",
    "If so, then action to call tool (retriever)\n",
    "\n",
    "Then call agent with the tool output added to messages (state)"
   ]
  },
  {
   "cell_type": "code",
   "execution_count": 37,
   "id": "81724336-64a8-408f-8d2e-343724dbdb1f",
   "metadata": {},
   "outputs": [],
   "source": [
    "from langgraph.graph import END, StateGraph, START\n",
    "from langgraph.prebuilt import ToolNode\n",
    "\n",
    "# Define a new graph\n",
    "workflow = StateGraph(AgentState)\n",
    "\n",
    "# Define the nodes we will cycle between\n",
    "workflow.add_node(\"agent\", agent)  # agent\n",
    "retrieve = ToolNode([retriever_tool])\n",
    "workflow.add_node(\"retrieve\", retrieve)  # retrieval\n",
    "workflow.add_node(\"rewrite\", rewrite)  # Re-writing the question\n",
    "workflow.add_node(\n",
    "    \"generate\", generate\n",
    ")  # Generating a response after we know the documents are relevant\n",
    "\n",
    "\n",
    "# Call agent node to decide to retrieve or not\n",
    "workflow.add_edge(START, \"agent\")\n",
    "\n",
    "# Decide whether to retrieve\n",
    "workflow.add_conditional_edges(\n",
    "    \"agent\",\n",
    "    # Assess agent decision\n",
    "    tools_condition,\n",
    "    {\n",
    "        # Translate the condition outputs to nodes in our graph\n",
    "        \"tools\": \"retrieve\",\n",
    "        END: END,\n",
    "    },\n",
    ")\n",
    "\n",
    "# Edges taken after the `action` node is called.\n",
    "workflow.add_conditional_edges(\n",
    "    \"retrieve\",\n",
    "    # Assess agent decision\n",
    "    grade_documents,\n",
    ")\n",
    "workflow.add_edge(\"generate\", END)\n",
    "workflow.add_edge(\"rewrite\", \"agent\")\n",
    "\n",
    "# Compile\n",
    "graph = workflow.compile()"
   ]
  },
  {
   "cell_type": "code",
   "execution_count": 38,
   "id": "37798f7b-96c3-4dcd-a68d-27be829239f3",
   "metadata": {},
   "outputs": [
    {
     "data": {
      "image/png": "[encoded data removed]",
      "text/plain": [
       "<IPython.core.display.Image object>"
      ]
     },
     "metadata": {},
     "output_type": "display_data"
    }
   ],
   "source": [
    "from IPython.display import Image, display\n",
    "\n",
    "try:\n",
    "    display(Image(graph.get_graph(xray=True).draw_mermaid_png()))\n",
    "except Exception:\n",
    "    # This requires some extra dependencies and is optional\n",
    "    pass"
   ]
  },
  {
   "cell_type": "code",
   "execution_count": 39,
   "id": "41b4a0f9-7265-40ca-84d6-691cb21ed796",
   "metadata": {},
   "outputs": [
    {
     "name": "stdin",
     "output_type": "stream",
     "text": [
      "Aks question to your docuement:  hi\n"
     ]
    },
    {
     "name": "stdout",
     "output_type": "stream",
     "text": [
      "---CALL AGENT---\n",
      "\"Output from node 'agent':\"\n",
      "'---'\n",
      "{ 'messages': [ AIMessage(content='Hi, how can I help you today?', additional_kwargs={}, response_metadata={'prompt_feedback': {'block_reason': 0, 'safety_ratings': []}, 'finish_reason': 'STOP', 'safety_ratings': []}, id='run-7361bce7-7c7d-4ba8-832b-692d0f960fb2-0', usage_metadata={'input_tokens': 16, 'output_tokens': 10, 'total_tokens': 26, 'input_token_details': {'cache_read': 0}})]}\n",
      "'\\n---\\n'\n"
     ]
    }
   ],
   "source": [
    "import pprint\n",
    "\n",
    "query  = input(\"Aks question to your docuement: \")\n",
    "\n",
    "inputs = {\n",
    "    \"messages\": [\n",
    "        (\"user\", query),\n",
    "    ]\n",
    "}\n",
    "for output in graph.stream(inputs):\n",
    "    for key, value in output.items():\n",
    "        pprint.pprint(f\"Output from node '{key}':\")\n",
    "        pprint.pprint(\"---\")\n",
    "        pprint.pprint(value, indent=2, width=80, depth=None)\n",
    "    pprint.pprint(\"\\n---\\n\")"
   ]
  },
  {
   "cell_type": "code",
   "execution_count": 40,
   "id": "7adf9cca-7e4d-43d7-bf5e-9cb97560ec44",
   "metadata": {},
   "outputs": [],
   "source": [
    "SYSTEM_PROMPT = \"\"\"\n",
    "You are a legal document assistant specializing in retrieving and summarizing contract-related information. \n",
    "You assist users by searching for relevant clauses, answering questions based on available contractual content, \n",
    "and providing legally sound explanations.\n",
    "\n",
    "### **Guidelines for Answering Queries:**\n",
    "- Always prioritize **retrieving relevant information** from the document before generating responses.\n",
    "- If the retrieved information directly answers the query, provide a **clear and concise** response.\n",
    "- If relevant information is **not found**, politely state that the document does not contain the requested details.\n",
    "- For **general legal questions** (outside the document’s scope), provide a disclaimer:  \n",
    "  *'I am designed to assist with contract-specific queries. For general legal advice, please consult a legal expert.'*\n",
    "- Maintain **neutral, professional, and factual** language at all times.\n",
    "\n",
    "### **Handling User Queries:**\n",
    "- If the query is **directly related** to the document (contract terms, clauses, obligations), extract and summarize the relevant content.\n",
    "- If the query is **indirectly related** (contract law concepts, legal definitions), provide general guidance but avoid giving legal advice.\n",
    "- If the query is **irrelevant** (e.g., sports, technology, general AI), politely inform the user that the chatbot focuses on contract-related queries.\n",
    "\n",
    "\n",
    "\"\"\"\n"
   ]
  },
  {
   "cell_type": "code",
   "execution_count": 41,
   "id": "a2f5c57f-48c4-4e9b-8113-5cbdd3ee508a",
   "metadata": {},
   "outputs": [],
   "source": [
    "from pydantic import BaseModel\n",
    "\n",
    "class ChatRequest(BaseModel):\n",
    "    session_id: str  \n",
    "    message: str\n",
    "\n",
    "class ChatResponse(BaseModel):\n",
    "    response: str\n",
    "\n",
    "    "
   ]
  },
  {
   "cell_type": "code",
   "execution_count": 50,
   "id": "81dbca7c-89f0-495e-b848-09c64b8cb243",
   "metadata": {},
   "outputs": [],
   "source": [
    "from langchain_core.messages import SystemMessage, HumanMessage, AIMessage\n",
    "from pydantic import BaseModel\n",
    "\n",
    "# Define request model\n",
    "class ChatRequest(BaseModel):\n",
    "    session_id: str  \n",
    "    message: str\n",
    "\n",
    "\n",
    "# Chat Service Class\n",
    "class ChatService:\n",
    "    def __init__(self):\n",
    "        self.graph = graph  # Assuming 'graph' is defined somewhere\n",
    "        self.chat_histories = {}  # Store session-based chat histories\n",
    "\n",
    "    def handle_message(self, session_id: str, message: str):\n",
    "        \"\"\"Processes user input while maintaining session-based chat history.\"\"\"\n",
    "        \n",
    "        # Initialize session history if not exists\n",
    "        if session_id not in self.chat_histories:\n",
    "            self.chat_histories[session_id] = [SystemMessage(content=SYSTEM_PROMPT)]\n",
    "\n",
    "        # Add user message to session history\n",
    "        self.chat_histories[session_id].append(HumanMessage(content=message))\n",
    "\n",
    "        # Prepare state with messages\n",
    "        state = AgentState(messages=self.chat_histories[session_id])\n",
    "\n",
    "        # Invoke LangGraph\n",
    "        next_state = self.graph.invoke(state)\n",
    "\n",
    "        print(next_state)\n",
    "\n",
    "        # Extract AI response\n",
    "        if next_state[\"messages\"]:\n",
    "            ai_response = next_state[\"messages\"][-1].content\n",
    "            self.chat_histories[session_id].append(AIMessage(content=ai_response))  # Store AI response\n",
    "            return ai_response\n",
    "\n",
    "        return \"No response generated.\"\n",
    "\n",
    "    def reset_chat_history(self, session_id: str):\n",
    "        \"\"\"Clears the chat history for a specific session.\"\"\"\n",
    "        self.chat_histories[session_id] = [SystemMessage(content=SYSTEM_PROMPT)]\n",
    "\n",
    "\n",
    "# Initialize chatbot\n",
    "chatbot = ChatService()\n",
    "\n",
    "\n",
    "def chat_endpoint(request: ChatRequest):\n",
    "    \"\"\"Handles user messages and maintains session-based chat history.\"\"\"\n",
    "    \n",
    "    # Process user message with session-based chat history\n",
    "    response = chatbot.handle_message(request.session_id, request.message)\n",
    "\n",
    "    return {\"response\": response}\n",
    "\n",
    "\n"
   ]
  },
  {
   "cell_type": "code",
   "execution_count": null,
   "id": "f1d88f61-f076-47c1-b3e4-e6faa454e360",
   "metadata": {},
   "outputs": [],
   "source": []
  },
  {
   "cell_type": "code",
   "execution_count": 51,
   "id": "378d9616-3bb0-4eba-ac20-b5c68b900e59",
   "metadata": {},
   "outputs": [
    {
     "name": "stdout",
     "output_type": "stream",
     "text": [
      "---CALL AGENT---\n",
      "{'messages': [SystemMessage(content=\"\\nYou are a legal document assistant specializing in retrieving and summarizing contract-related information. \\nYou assist users by searching for relevant clauses, answering questions based on available contractual content, \\nand providing legally sound explanations.\\n\\n### **Guidelines for Answering Queries:**\\n- Always prioritize **retrieving relevant information** from the document before generating responses.\\n- If the retrieved information directly answers the query, provide a **clear and concise** response.\\n- If relevant information is **not found**, politely state that the document does not contain the requested details.\\n- For **general legal questions** (outside the document’s scope), provide a disclaimer:  \\n  *'I am designed to assist with contract-specific queries. For general legal advice, please consult a legal expert.'*\\n- Maintain **neutral, professional, and factual** language at all times.\\n\\n### **Handling User Queries:**\\n- If the query is **directly related** to the document (contract terms, clauses, obligations), extract and summarize the relevant content.\\n- If the query is **indirectly related** (contract law concepts, legal definitions), provide general guidance but avoid giving legal advice.\\n- If the query is **irrelevant** (e.g., sports, technology, general AI), politely inform the user that the chatbot focuses on contract-related queries.\\n\\n### **Example Interactions:**\\n❓ **User:** *What are the confidentiality obligations in this contract?*  \\n✅ **AI:** *The contract defines confidentiality in Section 13.1. It states that both parties must protect sensitive information and use it only for permitted purposes...*  \\n\\n❓ **User:** *Can you explain the difference between a supply agreement and a service contract?*  \\n⚠️ **AI:** *I can provide general guidance, but for specific legal advice, consult a professional. A supply agreement typically governs the sale of goods, whereas a service contract focuses on service obligations...*  \\n\\n❓ **User:** *Who won the FIFA World Cup in 2022?*  \\n🚫 **AI:** *I'm designed to assist with contract-related queries. Let me know if you have any legal document questions!*  \\n\\n\", additional_kwargs={}, response_metadata={}, id='80817546-7d0b-4dd2-80ae-2355d31a298a'), HumanMessage(content='ok', additional_kwargs={}, response_metadata={}, id='b1b43dbe-5a0e-4bde-a3a3-3b19fbd1943b'), AIMessage(content='How can I help you with your contract today?', additional_kwargs={}, response_metadata={'prompt_feedback': {'block_reason': 0, 'safety_ratings': []}, 'finish_reason': 'STOP', 'safety_ratings': []}, id='run-e62d6765-a0a2-4d24-a7f3-addd6479767d-0', usage_metadata={'input_tokens': 463, 'output_tokens': 11, 'total_tokens': 474, 'input_token_details': {'cache_read': 0}})]}\n",
      "{'response': 'How can I help you with your contract today?'}\n"
     ]
    }
   ],
   "source": [
    "# Test the chatbot\n",
    "user_input = \"ok\"\n",
    "session_id = \"1\"\n",
    "request = ChatRequest(session_id=session_id, message=user_input)\n",
    "\n",
    "response = chat_endpoint(request)\n",
    "print(response)"
   ]
  },
  {
   "cell_type": "code",
   "execution_count": null,
   "id": "530ba3c6-d6a3-4884-90d3-24817202afa9",
   "metadata": {},
   "outputs": [],
   "source": []
  },
  {
   "cell_type": "code",
   "execution_count": null,
   "id": "52061e2b-9cbf-4751-887b-f8e9f2e2af50",
   "metadata": {},
   "outputs": [],
   "source": []
  },
  {
   "cell_type": "code",
   "execution_count": null,
   "id": "38bad109-acfa-4fe9-8738-cf484e36f221",
   "metadata": {},
   "outputs": [],
   "source": []
  },
  {
   "cell_type": "code",
   "execution_count": null,
   "id": "d430f7b2-bb05-4e73-93f5-f85e71c5b097",
   "metadata": {},
   "outputs": [],
   "source": []
  },
  {
   "cell_type": "code",
   "execution_count": null,
   "id": "3c05b596-c9bd-470a-97f4-de967fc7a16b",
   "metadata": {},
   "outputs": [],
   "source": []
  },
  {
   "cell_type": "code",
   "execution_count": null,
   "id": "5f264ca9-d6e5-49e6-b7ae-6d7b11836412",
   "metadata": {},
   "outputs": [],
   "source": []
  },
  {
   "cell_type": "code",
   "execution_count": null,
   "id": "1700278f-b712-4c42-bf79-a36932d6d7d8",
   "metadata": {},
   "outputs": [],
   "source": []
  },
  {
   "cell_type": "code",
   "execution_count": null,
   "id": "da5c76fd-871c-4c7c-a6b5-82176d3bc6bd",
   "metadata": {},
   "outputs": [],
   "source": []
  },
  {
   "cell_type": "code",
   "execution_count": 42,
   "id": "b8c0d35f-24b3-4fd0-81ab-a3a69ef35472",
   "metadata": {},
   "outputs": [],
   "source": [
    "from langchain_core.messages import SystemMessage, HumanMessage, AIMessage\n",
    "\n",
    "# Chat Service Class\n",
    "class ChatService:\n",
    "    def __init__(self):\n",
    "        self.graph = graph\n",
    "        self.chat_history = [SystemMessage(content=SYSTEM_PROMPT)]  # Store chat history persistently\n",
    "\n",
    "    def handle_message(self, message: str):\n",
    "        \"\"\"Processes user input and maintains chat history.\"\"\"\n",
    "        \n",
    "        # Add user message to history\n",
    "        self.chat_history.append(HumanMessage(content=message))\n",
    "\n",
    "        # Prepare state with messages\n",
    "        state = AgentState(messages=self.chat_history)\n",
    "\n",
    "        # Invoke LangGraph\n",
    "        next_state = self.graph.invoke(state)\n",
    "\n",
    "        print(next_state)\n",
    "\n",
    "        # Extract AI response\n",
    "        if next_state[\"messages\"]:\n",
    "            ai_response = next_state[\"messages\"][-1].content\n",
    "            self.chat_history.append(AIMessage(content=ai_response))  # Store AI response persistently\n",
    "            return ai_response\n",
    "\n",
    "        return \"No response generated.\""
   ]
  },
  {
   "cell_type": "code",
   "execution_count": 43,
   "id": "20b81232-f9b7-4d68-a4ee-2090677f19bd",
   "metadata": {},
   "outputs": [],
   "source": [
    "# Store chat histories (simulating user sessions)\n",
    "chat_histories = {}\n",
    "\n",
    "# Initialize chatbot\n",
    "chatbot = ChatService()\n",
    "\n",
    "\n",
    "def chat_endpoint(request: ChatRequest):\n",
    "    \"\"\"Handles user messages and maintains session-based chat history.\"\"\"\n",
    "\n",
    "    session_id = request.get(\"session_id\")\n",
    "\n",
    "    # Initialize chat history for a new session\n",
    "    if session_id not in chat_histories:\n",
    "        chat_histories[session_id] = chatbot.chat_history  # Start with system prompt\n",
    "\n",
    "    # Pass session-specific history to chatbot\n",
    "    chatbot.chat_history = chat_histories[session_id]\n",
    "\n",
    "    # Process user message\n",
    "    response = chatbot.handle_message(request.get(\"message\"))\n",
    "\n",
    "    # Update session chat history\n",
    "    chat_histories[session_id] = chatbot.chat_history  \n",
    "\n",
    "    return {\"response\": response}"
   ]
  },
  {
   "cell_type": "code",
   "execution_count": null,
   "id": "1dba37a1-46b9-403a-b246-0d5290c46214",
   "metadata": {},
   "outputs": [],
   "source": []
  },
  {
   "cell_type": "code",
   "execution_count": 44,
   "id": "5dde734f-1595-4bf2-9021-2e252d6f4c69",
   "metadata": {},
   "outputs": [
    {
     "name": "stdout",
     "output_type": "stream",
     "text": [
      "---CALL AGENT---\n",
      "---CHECK RELEVANCE---\n",
      "---DECISION: DOCS RELEVANT---\n",
      "---GENERATE---\n",
      "{'messages': [SystemMessage(content=\"\\nYou are a legal document assistant specializing in retrieving and summarizing contract-related information. \\nYou assist users by searching for relevant clauses, answering questions based on available contractual content, \\nand providing legally sound explanations.\\n\\n### **Guidelines for Answering Queries:**\\n- Always prioritize **retrieving relevant information** from the document before generating responses.\\n- If the retrieved information directly answers the query, provide a **clear and concise** response.\\n- If relevant information is **not found**, politely state that the document does not contain the requested details.\\n- For **general legal questions** (outside the document’s scope), provide a disclaimer:  \\n  *'I am designed to assist with contract-specific queries. For general legal advice, please consult a legal expert.'*\\n- Maintain **neutral, professional, and factual** language at all times.\\n\\n### **Handling User Queries:**\\n- If the query is **directly related** to the document (contract terms, clauses, obligations), extract and summarize the relevant content.\\n- If the query is **indirectly related** (contract law concepts, legal definitions), provide general guidance but avoid giving legal advice.\\n- If the query is **irrelevant** (e.g., sports, technology, general AI), politely inform the user that the chatbot focuses on contract-related queries.\\n\\n### **Example Interactions:**\\n❓ **User:** *What are the confidentiality obligations in this contract?*  \\n✅ **AI:** *The contract defines confidentiality in Section 13.1. It states that both parties must protect sensitive information and use it only for permitted purposes...*  \\n\\n❓ **User:** *Can you explain the difference between a supply agreement and a service contract?*  \\n⚠️ **AI:** *I can provide general guidance, but for specific legal advice, consult a professional. A supply agreement typically governs the sale of goods, whereas a service contract focuses on service obligations...*  \\n\\n❓ **User:** *Who won the FIFA World Cup in 2022?*  \\n🚫 **AI:** *I'm designed to assist with contract-related queries. Let me know if you have any legal document questions!*  \\n\\n\", additional_kwargs={}, response_metadata={}, id='baef3353-b105-4c35-8787-c9754ffed9c0'), HumanMessage(content='What is the role of the Quality Agreement in API manufacturing', additional_kwargs={}, response_metadata={}, id='6985615b-ee93-466d-b2c7-61fd110e1e9c'), AIMessage(content='', additional_kwargs={'function_call': {'name': 'retrieve_information', 'arguments': '{\"query\": \"role of the Quality Agreement in API manufacturing\"}'}}, response_metadata={'prompt_feedback': {'block_reason': 0, 'safety_ratings': []}, 'finish_reason': 'STOP', 'safety_ratings': []}, id='run-a06ab0b1-0157-48a6-8ea5-4524862cb765-0', tool_calls=[{'name': 'retrieve_information', 'args': {'query': 'role of the Quality Agreement in API manufacturing'}, 'id': '86ed39f6-d6bc-464e-849f-7c559f026b97', 'type': 'tool_call'}], usage_metadata={'input_tokens': 473, 'output_tokens': 12, 'total_tokens': 485, 'input_token_details': {'cache_read': 0}}), ToolMessage(content='(b) Manufacture of API. Subject to the terms and conditions of this Agreement,  agrees to manufacture API at the Facility for sale to .  may not manufacture API at locations other than the Facility without the prior written Consent of , such Consent not to be unreasonably withheld or delayed and as provided in the Quality Agreement\\n\\n(b) Manufacture of API. Subject to the terms and conditions of this Agreement,  agrees to manufacture API at the Facility for sale to .  may not manufacture API at locations other than the Facility without the prior written Consent of , such Consent not to be unreasonably withheld or delayed and as provided in the Quality Agreement\\n\\n(b) Manufacture of API. Subject to the terms and conditions of this Agreement,  agrees to manufacture API at the Facility for sale to .  may not manufacture API at locations other than the Facility without the prior written Consent of , such Consent not to be unreasonably withheld or delayed and as provided in the Quality Agreement\\n\\n(b) Manufacture of API. Subject to the terms and conditions of this Agreement,  agrees to manufacture API at the Facility for sale to .  may not manufacture API at locations other than the Facility without the prior written Consent of , such Consent not to be unreasonably withheld or delayed and as provided in the Quality Agreement', name='retrieve_information', id='74ad31d4-20ea-4401-9194-f6b3c5145648', tool_call_id='86ed39f6-d6bc-464e-849f-7c559f026b97'), AIMessage(content='Okay, I can help with that. Please tell me the user\\'s question about the clause. I need to know what they\\'re asking in order to provide a concise and clear answer based on the provided text.\\n\\nFor example, are they asking:\\n\\n*   \"Can manufacture API anywhere they want?\"\\n*   \"What does \\'unreasonably withheld or delayed\\' mean?\"\\n*   \"What is the Quality Agreement\\'s role here?\"\\n*   \"Who is responsible for manufacturing the API?\"\\n\\nOnce I know the question, I can give you a helpful answer.', additional_kwargs={}, response_metadata={}, id='7092036f-d8a1-4391-b67f-f203e6c11a88')]}\n"
     ]
    }
   ],
   "source": [
    "user_input = \"What is the role of the Quality Agreement in API manufacturing\"\n",
    "\n",
    "session_id = \"1\"\n",
    "request = {\"session_id\":session_id, \"message\": user_input}\n",
    "\n",
    "response = chat_endpoint(request)"
   ]
  },
  {
   "cell_type": "code",
   "execution_count": 45,
   "id": "36554cca-187a-47d2-9f03-2f2aa3613ff8",
   "metadata": {},
   "outputs": [
    {
     "data": {
      "text/plain": [
       "dict"
      ]
     },
     "execution_count": 45,
     "metadata": {},
     "output_type": "execute_result"
    }
   ],
   "source": [
    "type(response)"
   ]
  },
  {
   "cell_type": "code",
   "execution_count": 46,
   "id": "5429b728-c77d-4657-ba5e-2bf34e236dbb",
   "metadata": {},
   "outputs": [
    {
     "data": {
      "text/plain": [
       "{'response': 'Okay, I can help with that. Please tell me the user\\'s question about the clause. I need to know what they\\'re asking in order to provide a concise and clear answer based on the provided text.\\n\\nFor example, are they asking:\\n\\n*   \"Can manufacture API anywhere they want?\"\\n*   \"What does \\'unreasonably withheld or delayed\\' mean?\"\\n*   \"What is the Quality Agreement\\'s role here?\"\\n*   \"Who is responsible for manufacturing the API?\"\\n\\nOnce I know the question, I can give you a helpful answer.'}"
      ]
     },
     "execution_count": 46,
     "metadata": {},
     "output_type": "execute_result"
    }
   ],
   "source": [
    "response"
   ]
  },
  {
   "cell_type": "code",
   "execution_count": 47,
   "id": "678a19a1-4089-4062-96c3-70b49a49e973",
   "metadata": {},
   "outputs": [
    {
     "data": {
      "text/plain": [
       "'Okay, I can help with that. Please tell me the user\\'s question about the clause. I need to know what they\\'re asking in order to provide a concise and clear answer based on the provided text.\\n\\nFor example, are they asking:\\n\\n*   \"Can manufacture API anywhere they want?\"\\n*   \"What does \\'unreasonably withheld or delayed\\' mean?\"\\n*   \"What is the Quality Agreement\\'s role here?\"\\n*   \"Who is responsible for manufacturing the API?\"\\n\\nOnce I know the question, I can give you a helpful answer.'"
      ]
     },
     "execution_count": 47,
     "metadata": {},
     "output_type": "execute_result"
    }
   ],
   "source": [
    "response[\"response\"]"
   ]
  },
  {
   "cell_type": "code",
   "execution_count": null,
   "id": "f63914fc-b525-42bd-b21a-62926716d973",
   "metadata": {},
   "outputs": [],
   "source": []
  },
  {
   "cell_type": "code",
   "execution_count": 24,
   "id": "bb0890a5-a9cd-4252-9dd0-8e69830b8398",
   "metadata": {},
   "outputs": [
    {
     "ename": "KeyError",
     "evalue": "'messages'",
     "output_type": "error",
     "traceback": [
      "\u001b[1;31m---------------------------------------------------------------------------\u001b[0m",
      "\u001b[1;31mKeyError\u001b[0m                                  Traceback (most recent call last)",
      "Cell \u001b[1;32mIn[24], line 1\u001b[0m\n\u001b[1;32m----> 1\u001b[0m \u001b[38;5;28;01mfor\u001b[39;00m m \u001b[38;5;129;01min\u001b[39;00m \u001b[43mresponse\u001b[49m\u001b[43m[\u001b[49m\u001b[38;5;124;43m\"\u001b[39;49m\u001b[38;5;124;43mmessages\u001b[39;49m\u001b[38;5;124;43m\"\u001b[39;49m\u001b[43m]\u001b[49m:\n\u001b[0;32m      2\u001b[0m     m\u001b[38;5;241m.\u001b[39mpretty_print()\n",
      "\u001b[1;31mKeyError\u001b[0m: 'messages'"
     ]
    }
   ],
   "source": [
    "for m in response[\"messages\"]:\n",
    "    m.pretty_print()"
   ]
  },
  {
   "cell_type": "code",
   "execution_count": null,
   "id": "0663f5d8-42c1-4f68-bf50-5d56f5163f7b",
   "metadata": {},
   "outputs": [],
   "source": []
  },
  {
   "cell_type": "code",
   "execution_count": null,
   "id": "b9d06983-9247-4a77-b4de-2a58392d3277",
   "metadata": {},
   "outputs": [],
   "source": []
  },
  {
   "cell_type": "code",
   "execution_count": null,
   "id": "513ae5fb-3d82-4acb-9c37-f3194bf548b8",
   "metadata": {},
   "outputs": [],
   "source": []
  },
  {
   "cell_type": "code",
   "execution_count": null,
   "id": "0f7e8d1a-960f-4919-8b94-c39935ac5243",
   "metadata": {},
   "outputs": [],
   "source": []
  },
  {
   "cell_type": "code",
   "execution_count": 35,
   "id": "958693e5-0bb9-4889-8395-72e886866a59",
   "metadata": {},
   "outputs": [],
   "source": [
    "class ChatService:\n",
    "    def __init__(self):\n",
    "        self.graph = graph\n",
    "        self.chat_histories = {}  # Dictionary to maintain session-wise chat history\n",
    "\n",
    "    def handle_message(self, session_id: str, message: str):\n",
    "        \"\"\"Processes user input while maintaining session-based chat history.\"\"\"\n",
    "        \n",
    "        # Initialize session history if not exists\n",
    "        if session_id not in self.chat_histories:\n",
    "            self.chat_histories[session_id] = [SystemMessage(content=SYSTEM_PROMPT)]\n",
    "\n",
    "        # Add user message to session history\n",
    "        self.chat_histories[session_id].append(HumanMessage(content=message))\n",
    "\n",
    "        # Prepare state with messages\n",
    "        state = AgentState(messages=self.chat_histories[session_id])\n",
    "\n",
    "        # Invoke LangGraph\n",
    "        next_state = self.graph.invoke(state)\n",
    "\n",
    "        # Extract AI response\n",
    "        if next_state[\"messages\"]:\n",
    "            ai_response = next_state[\"messages\"][-1].content\n",
    "            self.chat_histories[session_id].append(AIMessage(content=ai_response))  # Store AI response\n",
    "            return ai_response\n",
    "\n",
    "        return \"No response generated.\"\n",
    "\n",
    "    def reset_chat_history(self, session_id: str):\n",
    "        \"\"\"Clears the chat history for a specific session.\"\"\"\n",
    "        self.chat_histories[session_id] = [SystemMessage(content=SYSTEM_PROMPT)]\n",
    "    \n"
   ]
  },
  {
   "cell_type": "code",
   "execution_count": null,
   "id": "0d38b06b-bdff-4f57-ab28-19bd8d72064d",
   "metadata": {},
   "outputs": [],
   "source": []
  },
  {
   "cell_type": "code",
   "execution_count": null,
   "id": "3cd9953c-e908-4760-9cae-8df436b55dc8",
   "metadata": {},
   "outputs": [],
   "source": []
  },
  {
   "cell_type": "code",
   "execution_count": 33,
   "id": "67a883a7-aad5-47b2-a9c0-51b66fe3c6d5",
   "metadata": {},
   "outputs": [],
   "source": []
  },
  {
   "cell_type": "code",
   "execution_count": null,
   "id": "9188ce15-ca1b-4703-ad35-ac6ef2af7635",
   "metadata": {},
   "outputs": [],
   "source": []
  },
  {
   "cell_type": "code",
   "execution_count": 24,
   "id": "4bf1f3b4-3878-455c-bd71-b46a5b6cc3f1",
   "metadata": {},
   "outputs": [
    {
     "ename": "NameError",
     "evalue": "name 'SYSTEM_PROMPT' is not defined",
     "output_type": "error",
     "traceback": [
      "\u001b[1;31m---------------------------------------------------------------------------\u001b[0m",
      "\u001b[1;31mNameError\u001b[0m                                 Traceback (most recent call last)",
      "Cell \u001b[1;32mIn[24], line 5\u001b[0m\n\u001b[0;32m      2\u001b[0m chat_histories \u001b[38;5;241m=\u001b[39m {}\n\u001b[0;32m      4\u001b[0m \u001b[38;5;66;03m# Initialize chatbot\u001b[39;00m\n\u001b[1;32m----> 5\u001b[0m chatbot \u001b[38;5;241m=\u001b[39m \u001b[43mChatService\u001b[49m\u001b[43m(\u001b[49m\u001b[43m)\u001b[49m\n\u001b[0;32m      8\u001b[0m \u001b[38;5;28;01mfrom\u001b[39;00m\u001b[38;5;250m \u001b[39m\u001b[38;5;21;01mpydantic\u001b[39;00m\u001b[38;5;250m \u001b[39m\u001b[38;5;28;01mimport\u001b[39;00m BaseModel\n\u001b[0;32m     10\u001b[0m \u001b[38;5;28;01mclass\u001b[39;00m\u001b[38;5;250m \u001b[39m\u001b[38;5;21;01mChatRequest\u001b[39;00m(BaseModel):\n",
      "Cell \u001b[1;32mIn[23], line 7\u001b[0m, in \u001b[0;36mChatService.__init__\u001b[1;34m(self)\u001b[0m\n\u001b[0;32m      5\u001b[0m \u001b[38;5;28;01mdef\u001b[39;00m\u001b[38;5;250m \u001b[39m\u001b[38;5;21m__init__\u001b[39m(\u001b[38;5;28mself\u001b[39m):\n\u001b[0;32m      6\u001b[0m     \u001b[38;5;28mself\u001b[39m\u001b[38;5;241m.\u001b[39mgraph \u001b[38;5;241m=\u001b[39m graph\n\u001b[1;32m----> 7\u001b[0m     \u001b[38;5;28mself\u001b[39m\u001b[38;5;241m.\u001b[39mchat_history \u001b[38;5;241m=\u001b[39m [SystemMessage(content\u001b[38;5;241m=\u001b[39m\u001b[43mSYSTEM_PROMPT\u001b[49m)]\n",
      "\u001b[1;31mNameError\u001b[0m: name 'SYSTEM_PROMPT' is not defined"
     ]
    }
   ],
   "source": [
    "\n",
    "# Store chat histories (simulating user sessions)\n",
    "chat_histories = {}\n",
    "\n",
    "# Initialize chatbot\n",
    "chatbot = ChatService()\n",
    "\n",
    "\n",
    "from pydantic import BaseModel\n",
    "\n",
    "class ChatRequest(BaseModel):\n",
    "    session_id: str  \n",
    "    message: str\n",
    "\n",
    "class ChatResponse(BaseModel):\n",
    "    response: str"
   ]
  },
  {
   "cell_type": "code",
   "execution_count": null,
   "id": "27c25ed5-4728-4f25-9118-66d73c5642b1",
   "metadata": {},
   "outputs": [],
   "source": []
  },
  {
   "cell_type": "code",
   "execution_count": null,
   "id": "da1434f5-1fa7-4697-8056-a4cc50f9fa4e",
   "metadata": {},
   "outputs": [],
   "source": []
  },
  {
   "cell_type": "code",
   "execution_count": null,
   "id": "c1065ea5-493a-401e-a214-9fac0e9753b3",
   "metadata": {},
   "outputs": [],
   "source": []
  },
  {
   "cell_type": "markdown",
   "id": "541d2a80-b8fa-4d0e-bbd1-546427692da0",
   "metadata": {},
   "source": [
    "### Two sets of questions for testing your RAG pipeline:  "
   ]
  },
  {
   "cell_type": "markdown",
   "id": "fadc7f7f-aa74-4e85-aa8c-3f9d92136925",
   "metadata": {},
   "source": [
    "\n",
    "### **1. Questions Related to the Given Document (API Commercial Supply Agreement)**\n",
    "These questions will test how well your RAG system retrieves relevant information from the document.\n",
    "\n",
    "#### **Factual Questions:**\n",
    "1. What is the \"API Commercial Supply Agreement,\" and who are the involved parties?  \n",
    "2. What is the meaning of \"Adverse Event\" in the context of this agreement?  \n",
    "3. What are the obligations of the supplier under the \"Minimum Purchase Requirement\" clause?  \n",
    "4. How does the agreement define \"Confidential Information\"?  \n",
    "5. What are the responsibilities of the supplier in case of an \"API Nonconformity\"?  \n",
    "6. What does the term \"Change of Control\" refer to in the agreement?  \n",
    "7. What are the key responsibilities under the \"Regulatory Inspections\" section?  \n",
    "8. How are \"API Prices\" determined according to the agreement?  \n",
    "9. What steps should be taken if a dispute arises regarding API quality?  \n",
    "10. What is the role of the \"Quality Agreement\" in API manufacturing?  \n",
    "\n",
    "#### **Analytical/Reasoning Questions:**\n",
    "11. If a supplier fails to meet a Purchase Order deadline, what consequences are outlined in the contract?  \n",
    "12. How does the agreement ensure compliance with \"Current Good Manufacturing Practices\" (cGMPs)?  \n",
    "13. What protections are in place for confidential information shared between parties?  \n",
    "14. How does the agreement define the responsibilities for \"Regulatory Matters\"?  \n",
    "15. In what scenarios can the agreement be terminated?  \n",
    "\n",
    "---\n",
    "\n",
    "### **2. Questions NOT Related to the Given Document (General RAG System Testing)**\n",
    "These questions will test how your RAG system handles irrelevant or out-of-context queries.\n",
    "\n",
    "#### **Unrelated Factual Questions:**\n",
    "16. What is the history of the Securities Exchange Act of 1934?  \n",
    "17. How does the FDA regulate dietary supplements?  \n",
    "18. What is the process for patenting a pharmaceutical drug in the U.S.?  \n",
    "19. What are the key components of a commercial contract under U.S. law?  \n",
    "20. How do international trade agreements affect pharmaceutical supply chains?  \n",
    "\n",
    "#### **Trick/Confusing Questions:**\n",
    "21. What are the main differences between quantum computing and classical computing?  \n",
    "22. Who won the FIFA World Cup in 2022?  \n",
    "23. What are the latest advancements in artificial intelligence for contract analysis?  \n",
    "24. How does blockchain technology impact supply chain management?  \n",
    "25. What is the role of the European Medicines Agency (EMA) in drug approval?  \n",
    "\n",
    "---\n",
    "\n"
   ]
  },
  {
   "cell_type": "code",
   "execution_count": null,
   "id": "0d153411-9266-4e03-944a-498a616476d0",
   "metadata": {},
   "outputs": [],
   "source": []
  },
  {
   "cell_type": "code",
   "execution_count": null,
   "id": "249724bc-8b3e-441b-b6dd-b4039cd253bc",
   "metadata": {},
   "outputs": [],
   "source": []
  },
  {
   "cell_type": "code",
   "execution_count": null,
   "id": "8db787b5-3b6b-473d-9af3-06576fcf61e6",
   "metadata": {},
   "outputs": [],
   "source": []
  },
  {
   "cell_type": "code",
   "execution_count": null,
   "id": "ccf9280d-3e05-4b22-aa98-2f1ce85bf816",
   "metadata": {},
   "outputs": [],
   "source": []
  },
  {
   "cell_type": "code",
   "execution_count": null,
   "id": "a09ae372-ca43-4ebe-9c42-b4ee2a789742",
   "metadata": {},
   "outputs": [],
   "source": []
  },
  {
   "cell_type": "code",
   "execution_count": null,
   "id": "8b02beea-eedd-4ecc-9ffa-85ca96cd81b8",
   "metadata": {},
   "outputs": [],
   "source": [
    "100.28.982.10"
   ]
  },
  {
   "cell_type": "code",
   "execution_count": null,
   "id": "c0a86c95-0202-4c27-ac57-d29342155fcb",
   "metadata": {},
   "outputs": [],
   "source": []
  },
  {
   "cell_type": "code",
   "execution_count": null,
   "id": "18c20882-5694-4170-80fa-e72c24f84c32",
   "metadata": {},
   "outputs": [],
   "source": [
    "\"\"\" I address validation\n",
    "\n",
    "4 octes \n",
    "\n",
    "0 to 255\n",
    "\n",
    "can not begin with zero \n",
    "\n",
    "if number begings with zero - zero should be onlynumber in that ocate\n",
    "\n",
    "\n",
    "\"\"\""
   ]
  },
  {
   "cell_type": "code",
   "execution_count": 3,
   "id": "3ec286a6-af4d-452f-9072-3658044e8193",
   "metadata": {},
   "outputs": [],
   "source": []
  },
  {
   "cell_type": "code",
   "execution_count": null,
   "id": "fc31d14e-d108-46a7-80a9-f29b8c90c701",
   "metadata": {},
   "outputs": [],
   "source": []
  },
  {
   "cell_type": "code",
   "execution_count": null,
   "id": "42f556eb-3614-4100-9428-160af90247f5",
   "metadata": {},
   "outputs": [],
   "source": []
  },
  {
   "cell_type": "code",
   "execution_count": 60,
   "id": "a6286ea9-08a5-4bd0-ba06-1aef3e9b23a5",
   "metadata": {},
   "outputs": [],
   "source": [
    "def is_valid_ip(in_ip):\n",
    "\n",
    "    result = \"NOT VALID\"\n",
    "    \n",
    "    ip_list = in_ip.split(\".\")\n",
    "    # print(ip_list)\n",
    "    # print(len(ip_list))\n",
    "    \n",
    "\n",
    "    res_list = []\n",
    "\n",
    "    if len(ip_list) == 4:\n",
    "        for d in ip_list:\n",
    "            if 0<=int(d)<=255:\n",
    "                print(\"first test passed\")\n",
    "                if d.startswith(\"0\"):\n",
    "                    if d == \"0\":\n",
    "                        print(\"ZERO test passed\")\n",
    "                        \n",
    "                        res_list.append(True)\n",
    "                        \n",
    "                    else:\n",
    "                        print(\"ZERO test FAILED\")\n",
    "                        \n",
    "                        # print(res_list)\n",
    "                        res_list.append(False)\n",
    "                else:\n",
    "                    res_list.append(True)\n",
    "            else:\n",
    "                # print(res_list)\n",
    "                print(\"first test failed\")\n",
    "                res_list.append(False)\n",
    "    else:\n",
    "        print(\"MAIN test FAILED\")\n",
    "        res_list.append(False)\n",
    "                \n",
    "    print(res_list) \n",
    "    if all(res_list):\n",
    "        result = \"VALID\"\n",
    "    else:\n",
    "        result = \"NOT VALID\"\n",
    "                \n",
    "\n",
    "    return result"
   ]
  },
  {
   "cell_type": "code",
   "execution_count": null,
   "id": "d560b760-22b4-4b13-93f0-fa0172d52d38",
   "metadata": {},
   "outputs": [],
   "source": []
  },
  {
   "cell_type": "code",
   "execution_count": 66,
   "id": "ef71ee1e-a79c-4456-b493-1ee17d505239",
   "metadata": {},
   "outputs": [],
   "source": [
    "ip1 = \"245.0.155.10\"  # valid\n",
    "\n",
    "ip2 = \"145.0.135.9\"  # valid \n",
    "\n",
    "ip3 = \"133.022.10.12\"   # Invalid"
   ]
  },
  {
   "cell_type": "code",
   "execution_count": 67,
   "id": "1cd46633-aab8-4782-8450-5023b0168d01",
   "metadata": {},
   "outputs": [
    {
     "name": "stdout",
     "output_type": "stream",
     "text": [
      "first test passed\n",
      "first test passed\n",
      "ZERO test FAILED\n",
      "first test passed\n",
      "first test passed\n",
      "[True, False, True, True]\n"
     ]
    },
    {
     "data": {
      "text/plain": [
       "'NOT VALID'"
      ]
     },
     "execution_count": 67,
     "metadata": {},
     "output_type": "execute_result"
    }
   ],
   "source": [
    "is_valid_ip(ip3)"
   ]
  },
  {
   "cell_type": "code",
   "execution_count": null,
   "id": "06006bd6-674e-4638-b2cf-509302a4d7b7",
   "metadata": {},
   "outputs": [],
   "source": []
  },
  {
   "cell_type": "code",
   "execution_count": null,
   "id": "24176ce2-7eff-4a75-b1d9-e939c060a0ca",
   "metadata": {},
   "outputs": [],
   "source": []
  },
  {
   "cell_type": "code",
   "execution_count": null,
   "id": "5cbfaf40-fa6c-4102-bb0b-2cda41f7abc4",
   "metadata": {},
   "outputs": [],
   "source": []
  },
  {
   "cell_type": "code",
   "execution_count": null,
   "id": "b713e6bd-0aad-43ae-82d9-96a36398f86d",
   "metadata": {},
   "outputs": [],
   "source": []
  },
  {
   "cell_type": "code",
   "execution_count": null,
   "id": "e62e0885-10e7-4190-b860-16296c9e0141",
   "metadata": {},
   "outputs": [],
   "source": []
  },
  {
   "cell_type": "code",
   "execution_count": null,
   "id": "08a74964-ca9f-45a0-8d2e-f84b8381b512",
   "metadata": {},
   "outputs": [],
   "source": []
  },
  {
   "cell_type": "code",
   "execution_count": null,
   "id": "33b57411-a6d7-4da2-96ba-894708e84426",
   "metadata": {},
   "outputs": [],
   "source": []
  }
 ],
 "metadata": {
  "kernelspec": {
   "display_name": "Python (ai_env)",
   "language": "python",
   "name": "ai_env"
  },
  "language_info": {
   "codemirror_mode": {
    "name": "ipython",
    "version": 3
   },
   "file_extension": ".py",
   "mimetype": "text/x-python",
   "name": "python",
   "nbconvert_exporter": "python",
   "pygments_lexer": "ipython3",
   "version": "3.12.3"
  }
 },
 "nbformat": 4,
 "nbformat_minor": 5
}
