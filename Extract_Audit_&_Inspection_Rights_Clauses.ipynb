{
 "cells": [
  {
   "cell_type": "markdown",
   "id": "62013a56-bbf0-47c9-a866-a793215b1c0b",
   "metadata": {},
   "source": [
    "# Extract all possible occurrences of “Audit & Inspection Rights” clause"
   ]
  },
  {
   "cell_type": "markdown",
   "id": "b8783ec7-c99b-4350-9bb1-0c0d3359a90b",
   "metadata": {},
   "source": [
    "## Load and Chunk \n"
   ]
  },
  {
   "cell_type": "code",
   "execution_count": 77,
   "id": "bac28630-548c-4a1a-af42-1138ef7350a8",
   "metadata": {},
   "outputs": [],
   "source": [
    "\n",
    "from langchain.text_splitter import RecursiveCharacterTextSplitter\n",
    "from langchain_community.document_loaders import UnstructuredWordDocumentLoader\n",
    "\n",
    "\n",
    "def load_and_chunk_document(docx_path):\n",
    "    \"\"\"Loads document and intelligently chunks while preserving section integrity.\"\"\"\n",
    "    loader = UnstructuredWordDocumentLoader(docx_path, mode=\"elements\")\n",
    "    data = loader.load()\n",
    "\n",
    "    # Extract text and clean it\n",
    "    text = \"\\n\".join([chunk.page_content.strip() for chunk in data if chunk.page_content.strip()])\n",
    "\n",
    "    #  chunking\n",
    "    text_splitter = RecursiveCharacterTextSplitter(\n",
    "        chunk_size=1000,  # Large enough to capture a full clause\n",
    "        chunk_overlap=200,  # Overlap to prevent split clauses\n",
    "        separators=[\"\\n\\n\", \"\\n\", \". \", \" \"],  # Prefer splitting at paragraphs or sentences\n",
    "    )\n",
    "    \n",
    "    chunks = text_splitter.split_text(text)\n",
    "    \n",
    "    return chunks\n",
    "\n",
    "# Load and chunk document\n",
    "docx_path = \"contract_interview.docx\"\n",
    "document_chunks = load_and_chunk_document(docx_path)\n",
    "\n",
    "\n",
    "\n"
   ]
  },
  {
   "cell_type": "code",
   "execution_count": 78,
   "id": "92b4286d-7eae-4877-88c8-5ee19d52ce1e",
   "metadata": {},
   "outputs": [
    {
     "data": {
      "text/plain": [
       "196"
      ]
     },
     "execution_count": 78,
     "metadata": {},
     "output_type": "execute_result"
    }
   ],
   "source": [
    "len(document_chunks)"
   ]
  },
  {
   "cell_type": "code",
   "execution_count": 79,
   "id": "5ed58163-108b-4b06-b205-296ffb495668",
   "metadata": {
    "scrolled": true
   },
   "outputs": [
    {
     "name": "stdout",
     "output_type": "stream",
     "text": [
      "\n",
      "🔹🔹🔹 Chunk 1 (Length: 464 characters):\n",
      "Exhibit 10.2\n",
      "CONFIDENTIAL\n",
      "CERTAIN CONFIDENTIAL PORTIONS OF THIS EXHIBIT WERE OMITTED AND REPLACED WITH “[***]”. A COMPLETE VERSION OF THIS EXHIBIT HAS BEEN FILED SEPARATELY WITH THE SECRETARY OF THE SECURITIES AND EXCHANGE COMMISSION PURSUANT TO AN APPLICATION REQUESTING CONFIDENTIAL TREATMENT UNDER RULE 24b-2 OF THE SECURITIES EXCHANGE ACT OF 1934.\n",
      "API COMMERCIAL SUPPLY AGREEMENT\n",
      "by and between\n",
      ".\n",
      "and\n",
      ".\n",
      "Dated as of May 25, 2011\n",
      "API COMM ERCIAL SUPPLY AGREEMENT\n",
      "\n",
      "\n",
      "-----------------\n",
      "\n",
      "🔹🔹🔹 Chunk 2 (Length: 818 characters):\n",
      "API COMMERCIAL SUPPLY AGREEMENT\n",
      "by and between\n",
      ".\n",
      "and\n",
      ".\n",
      "Dated as of May 25, 2011\n",
      "API COMM ERCIAL SUPPLY AGREEMENT\n",
      "THIS API COMMERCIAL SUPPLY AGREEMENT (this “Agreement”) is entered into and dated as of the 25th day of May, 2011 (the “Effective Date”) by and between  ., a corporation organized under the laws of Ireland and having its principal office at First Floor, Block 3, The Oval, Shelbourne Road, Ballsbridge, Dublin 4, Ireland (“”), and ., a corporation organized under the laws of South Korea and having its principal offices at 15-1, Dongsu-dong, Naju-si, Jeollanam-do 520-330 Korea (“”).  and  are sometimes referred to herein individually as a “Party” and collectively as the “Parties.”\n",
      "RECITALS\n",
      "WHEREAS,  is engaged in the research, development and commercialization of proprietary pharmaceutical products;\n",
      "\n",
      "\n",
      "-----------------\n",
      "\n",
      "🔹🔹🔹 Chunk 3 (Length: 831 characters):\n",
      "RECITALS\n",
      "WHEREAS,  is engaged in the research, development and commercialization of proprietary pharmaceutical products;\n",
      "WHEREAS,  is a company that has developed substantial expertise in manufacturing polyunsaturated fatty acids, including the Compound (as defined herein), for use in nutritional supplement and pharmaceutical products; and\n",
      "WHEREAS, the Parties desire to enter into a supply agreement pursuant to which  will manufacture a certain active pharmaceutical ingredient for .\n",
      "NOW, THEREFORE, in consideration of the foregoing recitals, mutual covenants, agreements, representations and warranties contained herein, the Parties hereby agree as follows:\n",
      "Article I\n",
      "Definitions\n",
      "“Additional Expansions” has the meaning in Section 3.1(a) of this Agreement.\n",
      "“Adverse Event” has the meaning in Section 6.7(a) of this Agreement.\n",
      "\n",
      "\n",
      "-----------------\n",
      "\n",
      "🔹🔹🔹 Chunk 4 (Length: 942 characters):\n",
      "Article I\n",
      "Definitions\n",
      "“Additional Expansions” has the meaning in Section 3.1(a) of this Agreement.\n",
      "“Adverse Event” has the meaning in Section 6.7(a) of this Agreement.\n",
      "“Affiliate” means a corporation or non-corporate business entity that, directly or indirectly, controls, is controlled by, or is under common control with the Person specified, for so long as such control continues. An entity will be regarded as in control of another entity if: (a) it owns, directly or indirectly, at least fifty percent (50%) of the voting securities or capital stock of such entity, or has other comparable ownership interest with respect to any entity other than a corporation; or (b) it possesses, directly or indirectly, the power to direct or cause the direction of the management and policies of the corporation or non-corporate business entity, as applicable, whether through the ownership or control of voting securities, by contract or otherwise.\n",
      "\n",
      "\n",
      "-----------------\n",
      "\n",
      "🔹🔹🔹 Chunk 5 (Length: 974 characters):\n",
      "“Agreement” means this API Commercial Supply Agreement, including all Schedules hereto. “” has the meaning in the preamble of this Agreement.\n",
      "“ Confidential Information” has the meaning provided in Section 13.1 of this Agreement.\n",
      "“ Intellectual Property” means any and all Intellectual Property relating to the Product (as defined below) or the development or manufacture thereof that was (a) owned, licensed or controlled by  or  Affiliates as of the Effective Date, or (b) developed or acquired by  or  Affiliates after the Effective Date.\n",
      "“ License” has the meaning provided in Section 8.3 of this Agreement.\n",
      "2\n",
      "“API” means [***].\n",
      "“API Price” has the meaning provided in Section 3.1(a) of this Agreement.\n",
      "“API Product Developments” has the meaning provided in Section 8.2(a) of this Agreement. “API Specifications” mean all specifications set forth on Schedule 5.1 to this Agreement. “Approved Representatives” has the meaning provided in Section 5.4(a) of this Agreement.\n",
      "\n",
      "\n",
      "-----------------\n",
      "\n",
      "🔹🔹🔹 Chunk 6 (Length: 665 characters):\n",
      "“Calendar Quarter” means each three (3) month period beginning each January 1, April 1, July 1 and October 1 during the Term. The initial Calendar Quarter shall begin on the Effective Date and end on June 30, 2011, and the last Calendar Quarter shall end on the expiration or earlier termination date of the Term.\n",
      "“Calendar Year” means each twelve (12) month period beginning each January 1 during the Term. The initial Calendar Year shall begin on the Effective Date and end on the first December 31 during the Term, and the last Calendar Year shall begin on January 1 of the last year of the Term and end on the expiration or earlier termination date of the Term.\n",
      "\n",
      "\n",
      "-----------------\n",
      "\n",
      "🔹🔹🔹 Chunk 7 (Length: 569 characters):\n",
      "“Certificate of Analysis” means a document identified as such and provided by  to  in the form set forth in Schedule 6.2 that (a) sets forth the analytical test results for a specified lot of API shipped to  or its designee hereunder and includes a certified quality control protocol, (b) states that such API is in conformance with the Drug Application and API Specifications, and (c) states that such API is manufactured in accordance with the API Specifications, Legal Requirements and cGMPs.\n",
      "“Certificates” has the meaning provided in Section 6.2 of this Agreement.\n",
      "\n",
      "\n",
      "-----------------\n",
      "\n",
      "🔹🔹🔹 Chunk 8 (Length: 973 characters):\n",
      "“Certificates” has the meaning provided in Section 6.2 of this Agreement.\n",
      "“Change of Control” means any proposed transaction or series of transactions which shall result in (a) any Person other than a Party having direct or indirect ownership of more than fifty percent (50%) of the voting stock or assets of such Party or an Affiliate that controls such Party by Persons who are not shareholders of such Party or the Affiliate that controls such Party as of the Effective Date, or (b) the merger of a Party with or into a Third Party in a transaction in which such Party is not the surviving or acquiring Person.\n",
      "“” has the meaning in the preamble of this Agreement.\n",
      "“ Approval(s)” means the approval of the Facility as a cGMP facility for the manufacture of the API by the FDA and, as applicable, by any other applicable Governmental Body having jurisdiction to approve the Facility.\n",
      "“ Confidential Information” has the meaning provided in Section 13.2 of this Agreement.\n",
      "\n",
      "\n",
      "-----------------\n",
      "\n",
      "🔹🔹🔹 Chunk 9 (Length: 993 characters):\n",
      "“ Confidential Information” has the meaning provided in Section 13.2 of this Agreement.\n",
      "“ Intellectual Property” means (a) all Intellectual Property owned, licensed or controlled by  as of the Effective Date, and (b) all Intellectual Property developed or acquired by  after the Effective Date that does not relate to the Product or the development or manufacture of the Product, except that Intellectual Property developed by  related to the API shall be included in  Intellectual Property.\n",
      "“’s Initial Minimum Capacity” has the meaning provided in Section 4.1 of this Agreement. 3\n",
      "“’s Minimum Capacity” has the meaning provided in Section 4.1 of this Agreement. “CMC” means the chemistry, manufacturing and controls section(s) and data in a Drug Application. “Commercial Launch Forecast” has the meaning provided in Section 2.4(a) of this Agreement. “Compound” means ethyl ester of eicosapentaenoic acid.\n",
      "“Confidential Information” has the meaning provided in Section 13.3 of this Agreement.\n",
      "\n",
      "\n",
      "-----------------\n",
      "\n",
      "🔹🔹🔹 Chunk 10 (Length: 260 characters):\n",
      "“Confidential Information” has the meaning provided in Section 13.3 of this Agreement.\n",
      "“Consent” means any consent, authorization, permit, certificate, license or approval of, exemption by, or filing or registration with, any Governmental Body or other Person.\n",
      "\n",
      "\n",
      "-----------------\n",
      "\n",
      "🔹🔹🔹 Chunk 11 (Length: 994 characters):\n",
      "“Current Good Manufacturing Practices” or “cGMPs” means all applicable standards relating to manufacturing practices for intermediates, active pharmaceutical ingredients or finished pharmaceutical products, including without limitation (a) the principles detailed in the U.S. Current Good Manufacturing Practices, 21 C.F.R. Parts 210 and 211, The Rules Governing Medicinal Products in the European Community, Volume IV Good Manufacturing Practice for Medicinal Products, and Q7A Good Manufacturing Practice Guidance For Active Pharmaceutical Ingredients (ICH Q7A), and (b) the principles promulgated by any applicable Governmental Body having jurisdiction over the manufacture of the API, in the form of laws, rules or regulations, in each case as in effect at the Effective Date and as amended, promulgated or accepted by any applicable Governmental Body from time to time during the Term.\n",
      "“Days” (whether or not the word is capitalized) means, except where specified otherwise, calendar days.\n",
      "\n",
      "\n",
      "-----------------\n",
      "\n",
      "🔹🔹🔹 Chunk 12 (Length: 969 characters):\n",
      "“Days” (whether or not the word is capitalized) means, except where specified otherwise, calendar days.\n",
      "“Development and Process Validation Plan” means the development and validation plan to be agreed to by the Parties within [***] days of the Effective Date.\n",
      "“DMFs” has the meaning provided in Section 7.5 of this Agreement.\n",
      "“Drug Application” means a ‘new drug application’ (as such term is used under the United States Federal Food, Drug and Cosmetic Act) filed with the FDA for the Product, including, without limitation, any supplements thereto, any product license or any equivalent drug application or similar pharmaceutical product approval for the Product administered by any foreign Governmental Body, or supplement, extension or renewal of any of the foregoing.\n",
      "“Effective Date” has the meaning in the preamble of this Agreement.\n",
      "“Effective Supply Date” means the date of completion of the Expansion in accordance with Sections 4.1 and 4.2 of this Agreement.\n",
      "\n",
      "\n",
      "-----------------\n",
      "\n",
      "🔹🔹🔹 Chunk 13 (Length: 628 characters):\n",
      "“Effective Date” has the meaning in the preamble of this Agreement.\n",
      "“Effective Supply Date” means the date of completion of the Expansion in accordance with Sections 4.1 and 4.2 of this Agreement.\n",
      "“Expansion” has the meaning set forth in Section 4.1 of this Agreement.\n",
      "“Facility” means ’s manufacturing facility located at [***] (as the same may be expanded as provided herein), or such other FDA approved facility as agreed in writing by the Parties.\n",
      "“FDA” means the United States Food and Drug Administration, or any successor agency thereof. “Force Majeure Event” has the meaning provided in Section 14.1 of this Agreement. 4\n",
      "\n",
      "\n",
      "-----------------\n",
      "\n",
      "🔹🔹🔹 Chunk 14 (Length: 886 characters):\n",
      "“FDA” means the United States Food and Drug Administration, or any successor agency thereof. “Force Majeure Event” has the meaning provided in Section 14.1 of this Agreement. 4\n",
      "“Governmental Body” means any nation or government, any state, province or other political subdivision thereof, any entity with legal authority to exercise executive, legislative, judicial, regulatory or administrative functions, or any division of the FDA (as applicable) and any other applicable counterpart agency or foreign equivalent that administers the Legal Requirements.\n",
      "“Indemnified Party” has the meaning provided in Section 11.3 of this Agreement.\n",
      "“Indemnifying Party” has the meaning provided in Section 11.3 of this Agreement.\n",
      "“Initial Manufacturing Process” has the meaning provided in Section 5.4(a) of this Agreement. “Initial Term” has the meaning provided in Section 15.1 of this Agreement.\n",
      "\n",
      "\n",
      "-----------------\n",
      "\n",
      "🔹🔹🔹 Chunk 15 (Length: 326 characters):\n",
      "“Initial Manufacturing Process” has the meaning provided in Section 5.4(a) of this Agreement. “Initial Term” has the meaning provided in Section 15.1 of this Agreement.\n",
      "“Intermediate” means a material produced during steps in the synthesis of API that must undergo further molecular change or processing before it becomes API.\n",
      "\n",
      "\n",
      "-----------------\n"
     ]
    }
   ],
   "source": [
    "# Print first few chunks \n",
    "for i, chunk in enumerate(document_chunks[:15]):\n",
    "    print(f\"\\n🔹🔹🔹 Chunk {i+1} (Length: {len(chunk)} characters):\\n{chunk}\\n\\n\")\n",
    "    print(\"-----------------\")"
   ]
  },
  {
   "cell_type": "code",
   "execution_count": null,
   "id": "59ac83d4-6cf7-4106-899c-4e7e5a302acc",
   "metadata": {},
   "outputs": [],
   "source": []
  },
  {
   "cell_type": "markdown",
   "id": "cb169e6e-9403-4328-bd39-cf9d51f876e6",
   "metadata": {},
   "source": [
    "## Import Requirements"
   ]
  },
  {
   "cell_type": "code",
   "execution_count": 80,
   "id": "21c5808c-b028-442a-babe-d000882ed64d",
   "metadata": {},
   "outputs": [],
   "source": [
    "import pandas as pd\n",
    "\n",
    "from langgraph.prebuilt import create_react_agent\n",
    "from langgraph_supervisor import create_supervisor\n",
    "\n",
    "\n",
    "from langchain_google_genai import ChatGoogleGenerativeAI\n",
    "\n"
   ]
  },
  {
   "cell_type": "markdown",
   "id": "5696d77e-341f-4b93-9de4-89c7c7e21ace",
   "metadata": {},
   "source": [
    "## Import ENVs"
   ]
  },
  {
   "cell_type": "code",
   "execution_count": 81,
   "id": "d9f3871f-5bc5-4668-b613-0936c6f5915e",
   "metadata": {},
   "outputs": [],
   "source": [
    "dotenv_path = 'D:\\\\Dhananjay\\\\Pro\\\\DCode\\\\MyAIPractice\\\\.env'\n",
    "\n",
    "# import dotenv\n",
    "import os\n",
    "from dotenv import load_dotenv\n",
    "# Load environment variables\n",
    "load_dotenv(dotenv_path)\n",
    "\n",
    "GEMINI_API_KEY = os.getenv(\"GEMINI_API_KEY\")\n",
    "GEMINI_LLM_MODEL_NAME = os.getenv(\"GEMINI_LLM_MODEL_NAME\")\n",
    "GEMINI_EMBEDDING_MODEL_NAME = os.getenv(\"GEMINI_EMBEDDING_MODEL_NAME\")\n"
   ]
  },
  {
   "cell_type": "markdown",
   "id": "83a1073d-ef8e-4599-9bea-f8cd386ab06d",
   "metadata": {},
   "source": [
    "## Initialize LLM (Google Gemini)\n"
   ]
  },
  {
   "cell_type": "code",
   "execution_count": 94,
   "id": "40d1096a-dc87-4302-a57b-71de32683991",
   "metadata": {},
   "outputs": [
    {
     "data": {
      "text/plain": [
       "AIMessage(content='I am a large language model, trained by Google.', additional_kwargs={}, response_metadata={'prompt_feedback': {'block_reason': 0, 'safety_ratings': []}, 'finish_reason': 'STOP', 'safety_ratings': []}, id='run-47adcd7e-bc90-42e3-912e-3e1b8d8d17ef-0', usage_metadata={'input_tokens': 5, 'output_tokens': 11, 'total_tokens': 16, 'input_token_details': {'cache_read': 0}})"
      ]
     },
     "execution_count": 94,
     "metadata": {},
     "output_type": "execute_result"
    }
   ],
   "source": [
    "GEMINI_LLM_MODEL_NAME = \"gemini-2.5-pro-exp-03-25\"\n",
    "\n",
    "# Initialize LLM (Google Gemini)\n",
    "gemini_2_5 = ChatGoogleGenerativeAI(\n",
    "    google_api_key=GEMINI_API_KEY,\n",
    "    model=GEMINI_LLM_MODEL_NAME,\n",
    "    temprature = 0\n",
    ")\n",
    "\n",
    "\n",
    "gemini_2_5.invoke(\"who are you?\")"
   ]
  },
  {
   "cell_type": "code",
   "execution_count": 82,
   "id": "d241441c-e901-4383-99be-fd4e0fe8ac68",
   "metadata": {},
   "outputs": [],
   "source": [
    "\n",
    "# Initialize LLM (Google Gemini)\n",
    "model = ChatGoogleGenerativeAI(\n",
    "    google_api_key=GEMINI_API_KEY,\n",
    "    model=GEMINI_LLM_MODEL_NAME,\n",
    "    temprature = 0\n",
    ")"
   ]
  },
  {
   "cell_type": "code",
   "execution_count": 83,
   "id": "89d0ea50-226a-4297-9afe-51600c9e11cd",
   "metadata": {},
   "outputs": [],
   "source": [
    "from langchain_google_genai import GoogleGenerativeAIEmbeddings\n",
    "\n",
    "def get_embedding_model():\n",
    "    \"\"\"\n",
    "    Returns the configured embedding model for vector storage and retrieval.\n",
    "    \"\"\"\n",
    "    google_embedding = GoogleGenerativeAIEmbeddings(\n",
    "        model=GEMINI_EMBEDDING_MODEL_NAME,\n",
    "        google_api_key=GEMINI_API_KEY\n",
    "    )\n",
    "\n",
    "    return google_embedding"
   ]
  },
  {
   "cell_type": "code",
   "execution_count": 84,
   "id": "9f9abd68-c6f7-43c2-aff2-b666aebd9da7",
   "metadata": {},
   "outputs": [],
   "source": [
    " from langchain_core.documents import Document\n",
    "\n",
    "# Convert text chunks to LangChain Document objects\n",
    "documents = [Document(page_content=chunk) for chunk in document_chunks]\n",
    "\n",
    "\n"
   ]
  },
  {
   "cell_type": "markdown",
   "id": "53dce804-78ab-4847-b4ea-61e64f2ed76b",
   "metadata": {},
   "source": [
    "## Retriever"
   ]
  },
  {
   "cell_type": "code",
   "execution_count": null,
   "id": "87a8c0b9-070b-474c-bb45-ef79f2aa7794",
   "metadata": {},
   "outputs": [],
   "source": []
  },
  {
   "cell_type": "code",
   "execution_count": 85,
   "id": "67effd97-ee9d-4f50-a85f-d13d5e98cb39",
   "metadata": {},
   "outputs": [],
   "source": [
    "from langchain_community.vectorstores import Chroma\n",
    "\n",
    "\n",
    "# Add to vectorDB\n",
    "vectorstore = Chroma.from_documents(\n",
    "    documents=documents,\n",
    "    collection_name=\"extract-clause-chroma\",\n",
    "    embedding=get_embedding_model(),\n",
    "    persist_directory=\"./chroma_langchain_db\",  #  save data locally\n",
    "\n",
    ")\n",
    "\n",
    "retriever = vectorstore.as_retriever()"
   ]
  },
  {
   "cell_type": "markdown",
   "id": "e9a884e3-8e59-4f73-a844-246842680c79",
   "metadata": {},
   "source": [
    "###  Create Retriever Tool"
   ]
  },
  {
   "cell_type": "code",
   "execution_count": 86,
   "id": "60c838ec-48b7-4a2c-8644-4f278e50e65a",
   "metadata": {},
   "outputs": [
    {
     "name": "stdout",
     "output_type": "stream",
     "text": [
      "9.2 Audit and Inspection Rights. During the Term of this Agreement and thereafter during any applicable records retention period(s) under Section 9.3, Approved Representatives shall have the right, upon a prior written consent of , not to be unreasonably withheld or delayed, to audit and inspect those portions of the Facility (or the facility of a Material Third Party Supplier or Subcontractor, as the case may be) used in, and those documents and records related to, the manufacture, generation, storage, testing, treatment, holding, transportation, distribution or other handling or receiving of the API and Third Party Materials. Such audits may be conducted [***] each [***]; provided, however, that  may conduct additional “for cause” audits during a [***] to the extent  supplies Nonconforming API or in the event of Product complaints or Adverse Events caused by Nonconforming API.  may redact from such deliveries to  any Third Party confidential information or  Confidential Information\n",
      "\n",
      ".  may redact from such deliveries to  any Third Party confidential information or  Confidential Information. During such inspections, Approved Representatives shall have the right to audit and inspect all inventory of API and Third Party Materials contained at the Facility (or the facility of a Material Third Party Supplier or Subcontractor, as the case may be).  agrees to reasonably cooperate and assist  (and to require any Material Third Party Supplier or Subcontractor to cooperate and assist ) in connection with any audits or inspections pursuant to this Section 9.2\n",
      "\n",
      ". Audits or inspections under this Section 9.2 shall occur during business hours and shall be scheduled by Approved Representatives at least [***] in advance; provided, however, that, in the event of an Adverse Event or any proposed or actual inspection by the FDA or other Governmental Body (whether of  or a Material Third Party Supplier or Subcontractor) or other similar event or emergency involving any API or Third Party Materials, Approved Representatives shall have the right at any time, upon written notice to  (or any Material Third Party Supplier or Subcontractor) of [***], to conduct an audit or inspection of those affected portions of the Facility (or the facility of such Material Third Party Supplier or Subcontractor, as the case may be) used in the manufacture, generation, storage, testing, treatment, holding, transportation, distribution or other handling or receiving of API and Third Party Materials\n",
      "\n",
      "(b)  shall have the right, pursuant to the audit procedures in Section 9.2, to have its Approved Representatives undertake a quality assurance audit of ’s procedures and facilities for API production as soon as practicable after the date the Expansion is completed. If  undertakes such an audit,  shall provide  with a written audit report and, if applicable, shall highlight therein areas where  judges that  needs to make changes to procedures or facilities in advance of any Pre-Approval Inspection. Both Parties shall cooperate in good faith to agree and implement the necessary changes. If ’s written audit report identifies any areas for improvement, within [***] following delivery of ’s audit report,  shall prepare an action plan (and promptly deliver a copy of such plan to  for review and comment), which plan shall address the findings of the audit report and include accomplishment dates for corrective actions\n"
     ]
    }
   ],
   "source": [
    "from langchain.tools.retriever import create_retriever_tool\n",
    "\n",
    "# Create a retriever tool to extract \"Audit & Inspection Rights\" clauses\n",
    "retriever_tool = create_retriever_tool(\n",
    "    retriever,  \n",
    "    \"retrieve_audit_inspection_clauses\",\n",
    "    \"Extract all occurrences of the 'Audit & Inspection Rights' clause from the document. \"\n",
    ")\n",
    "\n",
    "# Define tools list\n",
    "tools = [retriever_tool]\n",
    "\n",
    "# Example usage (if integrated in an agent-based workflow)\n",
    "result = retriever_tool.invoke(\"Extract all 'Audit & Inspection Rights' clauses in the document\")\n",
    "print(result)\n"
   ]
  },
  {
   "cell_type": "code",
   "execution_count": null,
   "id": "34c4ff73-ec2c-4c2c-8ab7-889ead51e6bb",
   "metadata": {},
   "outputs": [],
   "source": []
  },
  {
   "cell_type": "markdown",
   "id": "ad2f117a-cc9a-49e6-9c83-305486394410",
   "metadata": {},
   "source": [
    "# Agents"
   ]
  },
  {
   "cell_type": "markdown",
   "id": "e9b344c0-b363-4e11-89a9-ca673d14f88b",
   "metadata": {},
   "source": [
    "### Audit_Inspection_Extraction_Agent"
   ]
  },
  {
   "cell_type": "code",
   "execution_count": 88,
   "id": "a059e382-b3d3-42aa-8a83-f42276d6027c",
   "metadata": {},
   "outputs": [],
   "source": [
    "Audit_Inspection_Extraction_Agent_Prompt = \"\"\"Extract all possible occurrences of the \"Audit & Inspection Rights\" clause from the provided document.\n",
    "\n",
    "Identify clauses that explicitly grant one party the right to:\n",
    "- Audit or inspect the books, records, accounts, or financial documents of another party.\n",
    "- Inspect or examine the premises, facilities, or operational sites of the other party.\n",
    "\n",
    "The extracted clauses should contain a contractual obligation related to audits or inspections.\n",
    "\n",
    "You have access to the `retrieve_audit_inspection_clauses` tool.\n",
    "\n",
    "Return **only** the exact clause text as it appears in the contract. Do **not** generate any additional text, summaries, or explanations.\n",
    "\n",
    "\"\"\"\n"
   ]
  },
  {
   "cell_type": "code",
   "execution_count": 89,
   "id": "aba89add-26df-4f7a-a727-c25eff77751e",
   "metadata": {},
   "outputs": [],
   "source": [
    "Audit_Inspection_Extraction_Agent = create_react_agent(\n",
    "    model=model,\n",
    "    tools=tools,\n",
    "    name=\"Audit Inspection Extraction Agent\",\n",
    "    prompt=Audit_Inspection_Extraction_Agent_Prompt\n",
    ")\n"
   ]
  },
  {
   "cell_type": "code",
   "execution_count": 90,
   "id": "a6242970-20ce-48ee-b2f0-b52d423f2fa8",
   "metadata": {},
   "outputs": [],
   "source": [
    "tool_messages = {\n",
    "            \"messages\": [\n",
    "                {\n",
    "                    \"role\": \"user\",\n",
    "                    \"content\": \"Extract all possible occurrences of the `Audit & Inspection Rights` clause from the provided document.\"\n",
    "                }\n",
    "            ]\n",
    "        }\n",
    "    \n",
    "    \n",
    "tool_result = Audit_Inspection_Extraction_Agent.invoke(tool_messages)"
   ]
  },
  {
   "cell_type": "code",
   "execution_count": 91,
   "id": "90ca8205-a485-4b26-ad2f-89441a709e50",
   "metadata": {},
   "outputs": [
    {
     "name": "stdout",
     "output_type": "stream",
     "text": [
      "================================\u001b[1m Human Message \u001b[0m=================================\n",
      "\n",
      "Extract all possible occurrences of the `Audit & Inspection Rights` clause from the provided document.\n",
      "==================================\u001b[1m Ai Message \u001b[0m==================================\n",
      "Name: Audit Inspection Extraction Agent\n",
      "Tool Calls:\n",
      "  retrieve_audit_inspection_clauses (d3043354-e9e5-47a0-ab0c-03d41e9b664e)\n",
      " Call ID: d3043354-e9e5-47a0-ab0c-03d41e9b664e\n",
      "  Args:\n",
      "    query: Audit & Inspection Rights\n",
      "=================================\u001b[1m Tool Message \u001b[0m=================================\n",
      "Name: retrieve_audit_inspection_clauses\n",
      "\n",
      "9.2 Audit and Inspection Rights. During the Term of this Agreement and thereafter during any applicable records retention period(s) under Section 9.3, Approved Representatives shall have the right, upon a prior written consent of , not to be unreasonably withheld or delayed, to audit and inspect those portions of the Facility (or the facility of a Material Third Party Supplier or Subcontractor, as the case may be) used in, and those documents and records related to, the manufacture, generation, storage, testing, treatment, holding, transportation, distribution or other handling or receiving of the API and Third Party Materials. Such audits may be conducted [***] each [***]; provided, however, that  may conduct additional “for cause” audits during a [***] to the extent  supplies Nonconforming API or in the event of Product complaints or Adverse Events caused by Nonconforming API.  may redact from such deliveries to  any Third Party confidential information or  Confidential Information\n",
      "\n",
      ". Audits or inspections under this Section 9.2 shall occur during business hours and shall be scheduled by Approved Representatives at least [***] in advance; provided, however, that, in the event of an Adverse Event or any proposed or actual inspection by the FDA or other Governmental Body (whether of  or a Material Third Party Supplier or Subcontractor) or other similar event or emergency involving any API or Third Party Materials, Approved Representatives shall have the right at any time, upon written notice to  (or any Material Third Party Supplier or Subcontractor) of [***], to conduct an audit or inspection of those affected portions of the Facility (or the facility of such Material Third Party Supplier or Subcontractor, as the case may be) used in the manufacture, generation, storage, testing, treatment, holding, transportation, distribution or other handling or receiving of API and Third Party Materials\n",
      "\n",
      ".  may redact from such deliveries to  any Third Party confidential information or  Confidential Information. During such inspections, Approved Representatives shall have the right to audit and inspect all inventory of API and Third Party Materials contained at the Facility (or the facility of a Material Third Party Supplier or Subcontractor, as the case may be).  agrees to reasonably cooperate and assist  (and to require any Material Third Party Supplier or Subcontractor to cooperate and assist ) in connection with any audits or inspections pursuant to this Section 9.2\n",
      "\n",
      "28\n",
      "Article IX\n",
      "Information; Access; Audit Rights\n",
      "9.1 Provision of Information.\n",
      "(a) Data.  shall provide to  copies (in electronic or hard-copy form, as requested by ) of or access to data as may be reasonably requested from time to time by  on a bona fide need-to-know basis, except as may be restricted for confidential information or trade secrets.  shall provide final reports for batch failures, including recommendation for API disposition for all investigations involving (i) foreign matter or particulate contamination; or (ii) any test results indicating non-compliance with the applicable Drug Applications, cGMPs or the API Specifications.\n",
      "==================================\u001b[1m Ai Message \u001b[0m==================================\n",
      "Name: Audit Inspection Extraction Agent\n",
      "\n",
      "9.2 Audit and Inspection Rights. During the Term of this Agreement and thereafter during any applicable records retention period(s) under Section 9.3, Approved Representatives shall have the right, upon a prior written consent of , not to be unreasonably withheld or delayed, to audit and inspect those portions of the Facility (or the facility of a Material Third Party Supplier or Subcontractor, as the case may be) used in, and those documents and records related to, the manufacture, generation, storage, testing, treatment, holding, transportation, distribution or other handling or receiving of the API and Third Party Materials. Such audits may be conducted [***] each [***]; provided, however, that  may conduct additional “for cause” audits during a [***] to the extent  supplies Nonconforming API or in the event of Product complaints or Adverse Events caused by Nonconforming API.  may redact from such deliveries to  any Third Party confidential information or  Confidential Information\n",
      "\n",
      ". Audits or inspections under this Section 9.2 shall occur during business hours and shall be scheduled by Approved Representatives at least [***] in advance; provided, however, that, in the event of an Adverse Event or any proposed or actual inspection by the FDA or other Governmental Body (whether of  or a Material Third Party Supplier or Subcontractor) or other similar event or emergency involving any API or Third Party Materials, Approved Representatives shall have the right at any time, upon written notice to  (or any Material Third Party Supplier or Subcontractor) of [***], to conduct an audit or inspection of those affected portions of the Facility (or the facility of such Material Third Party Supplier or Subcontractor, as the case may be) used in the manufacture, generation, storage, testing, treatment, holding, transportation, distribution or other handling or receiving of API and Third Party Materials\n",
      "\n",
      ".  may redact from such deliveries to  any Third Party confidential information or  Confidential Information. During such inspections, Approved Representatives shall have the right to audit and inspect all inventory of API and Third Party Materials contained at the Facility (or the facility of a Material Third Party Supplier or Subcontractor, as the case may be).  agrees to reasonably cooperate and assist  (and to require any Material Third Party Supplier or Subcontractor to cooperate and assist ) in connection with any audits or inspections pursuant to this Section 9.2\n",
      "\n",
      "Article IX\n",
      "Information; Access; Audit Rights\n"
     ]
    }
   ],
   "source": [
    "for m in tool_result[\"messages\"]:\n",
    "    m.pretty_print()\n"
   ]
  },
  {
   "cell_type": "markdown",
   "id": "8237630b-253d-4e90-ae7e-cccad6a3f3c9",
   "metadata": {},
   "source": [
    "### KeyClauseConceptsAgent"
   ]
  },
  {
   "cell_type": "code",
   "execution_count": 42,
   "id": "2413315a-0062-4ab4-a0d6-fce24cf761f0",
   "metadata": {},
   "outputs": [],
   "source": [
    "Key_Clause_Concepts_Agent_Prompt = \"\"\"Ensure the extracted clause strictly follows the scope of \"Audit & Inspection Rights.\" \n",
    "\n",
    "Only validate clauses that explicitly grant one party the right to audit, inspect, or examine the books, records, accounts, or premises of the other party. \n",
    "\n",
    "Exclude any clauses related to government/regulatory audits, product inspections, or definitions of \"auditor.\"\n",
    "\n",
    "Return only the exact text from the contract document. Do not include any explanations, summaries, or extra text.\n",
    "\"\"\"\n"
   ]
  },
  {
   "cell_type": "code",
   "execution_count": 43,
   "id": "44289d42-c972-4ddf-8698-e301ef88689f",
   "metadata": {},
   "outputs": [],
   "source": [
    "Key_clause_concepts_agent = create_react_agent(\n",
    "    model=model,\n",
    "    tools=[],\n",
    "    name=\"Key ClauseConcepts Agent\",\n",
    "    prompt=Key_Clause_Concepts_Agent_Prompt\n",
    ")\n"
   ]
  },
  {
   "cell_type": "code",
   "execution_count": null,
   "id": "919704ab-470b-4e78-86f7-19267c7dd772",
   "metadata": {},
   "outputs": [],
   "source": []
  },
  {
   "cell_type": "markdown",
   "id": "a5a105e9-71a6-4fc9-90ae-408ff2683a7a",
   "metadata": {},
   "source": [
    "### FeatureCheckAgent"
   ]
  },
  {
   "cell_type": "code",
   "execution_count": 44,
   "id": "a9c8a3d2-1f9f-49ca-97ce-42cadf4cf864",
   "metadata": {},
   "outputs": [],
   "source": [
    "Expected_Key_Clause_Feature_Agent_Prompt = \"\"\"Ensure the clause contains at least one of the following rights:  \n",
    "\n",
    "- The right of one party to audit the books and records of another party.  \n",
    "- The right of one party to give or receive access to the books and records of another party.  \n",
    "- The right to inspect or examine the premises, books, accounts, records, papers, or other specified items.  \n",
    "- The obligation of one party to maintain or retain records, files, books, accounts, or papers for the purpose of audit or inspection.  \n",
    "- The obligation of a party to follow certain procedures and rules with respect to conducting the audit.  \n",
    "\n",
    "Reject clauses that do not meet this requirement.  \n",
    "\n",
    "Return only the exact clause text from the contract document. Do not generate any additional content.\n",
    "\n",
    "\n",
    "\"\"\""
   ]
  },
  {
   "cell_type": "code",
   "execution_count": 45,
   "id": "c2d3dd47-13d2-4d10-9ba2-1e3250e0f27b",
   "metadata": {},
   "outputs": [],
   "source": [
    "\n",
    "Feature_Check_Agent = create_react_agent(\n",
    "    model=model,\n",
    "    tools=[],\n",
    "    name=\"Feature Check Agent\",\n",
    "    prompt=Expected_Key_Clause_Feature_Agent_Prompt\n",
    ")"
   ]
  },
  {
   "cell_type": "code",
   "execution_count": null,
   "id": "39e4179f-3d51-446e-8e26-d5f271fbf7d6",
   "metadata": {},
   "outputs": [],
   "source": []
  },
  {
   "cell_type": "markdown",
   "id": "6dd13995-682e-4665-91dd-ee317aa67e9d",
   "metadata": {},
   "source": [
    "### ExclusionFilterAgent"
   ]
  },
  {
   "cell_type": "code",
   "execution_count": 46,
   "id": "a42e7254-e5ba-4ce8-a576-db8b10d075fd",
   "metadata": {},
   "outputs": [],
   "source": [
    "Exclude_Clause_Concepts_Agent_Prompt = \"\"\"\n",
    "Filter out any clauses that fall into the following exclusions:  \n",
    "\n",
    "- Governmental or regulatory audits and inspections.  \n",
    "- Inspection rights on the delivery of products, especially those related to acceptance testing.  \n",
    "- Definitions of the term \"auditor.\"  \n",
    "\n",
    "Reject any clause that fits these exclusions.  \n",
    "\n",
    "Return only the exact clause text from the contract document. Do not add any explanations or extra text.\n",
    "\n",
    "\n",
    "\"\"\""
   ]
  },
  {
   "cell_type": "code",
   "execution_count": 47,
   "id": "04b9445d-fc96-44f6-9c49-c8172a85dda7",
   "metadata": {},
   "outputs": [],
   "source": [
    "Exclusion_Filter_Agent = create_react_agent(\n",
    "    model=model,\n",
    "    tools=[],\n",
    "    name=\"Exclusion Filter Agent\",\n",
    "    prompt=Exclude_Clause_Concepts_Agent_Prompt\n",
    ")"
   ]
  },
  {
   "cell_type": "code",
   "execution_count": null,
   "id": "86754b36-0d48-4b67-82e8-94943bbc573d",
   "metadata": {},
   "outputs": [],
   "source": []
  },
  {
   "cell_type": "markdown",
   "id": "9bdb46cf-70f9-4b3b-b7cb-aa86f40b4b0c",
   "metadata": {},
   "source": [
    "### supervised workflow"
   ]
  },
  {
   "cell_type": "code",
   "execution_count": 48,
   "id": "60a8c132-4cd8-4090-9797-4dc19c7d6d08",
   "metadata": {},
   "outputs": [],
   "source": [
    "Supervisor_Workflow_Prompt = \"\"\"You are a team supervisor managing Audit Inspection Extraction Agent, Feature Check Agent, and Exclusion Filter Agent. \n",
    "        To extract all occurrences of \"Audit & Inspection Rights\" clauses, use Audit_Inspection_Extraction_Agent. \n",
    "        To verify if the extracted clauses align with the expected key clause features, use Feature_Check_Agent.\n",
    "        To remove any extracted clauses that match the excluded concepts, use Exclusion_Filter_Agent\n",
    "\n",
    "        Extract all occurrences of `Audit & Inspection Rights` clauses, verify if the extracted clauses align with the expected key clause features, and remove any extracted clauses that match the excluded concepts.\n",
    "\n",
    "        Return only the exact clause text provided. Do not generate any summaries, explanations, or extra text.\n",
    "\n",
    "        If no valid clause is found, return `\"NO CLAUSE FOUND\"`.  \n",
    "        \n",
    "\n",
    "        \"\"\"\n",
    "\n",
    "        # If no valid clause is found, return `\"NO CLAUSE FOUND\"`.  \n",
    "# "
   ]
  },
  {
   "cell_type": "code",
   "execution_count": 49,
   "id": "9fb26c2b-66d6-4e65-80a9-5ea0bb762625",
   "metadata": {},
   "outputs": [],
   "source": [
    "\n",
    "workflow = create_supervisor(\n",
    "    [Audit_Inspection_Extraction_Agent, Feature_Check_Agent, Exclusion_Filter_Agent],  \n",
    "    model=model,\n",
    "    prompt=Supervisor_Workflow_Prompt\n",
    ")\n"
   ]
  },
  {
   "cell_type": "code",
   "execution_count": 50,
   "id": "d314b8e9-9d1c-4129-8ed6-4a71e3cc6d5d",
   "metadata": {},
   "outputs": [],
   "source": [
    "# Compile \n",
    "app = workflow.compile()\n",
    "\n"
   ]
  },
  {
   "cell_type": "code",
   "execution_count": 51,
   "id": "36753112-03c6-4a73-9890-882b09c44ba5",
   "metadata": {},
   "outputs": [
    {
     "data": {
      "text/plain": [
       "17"
      ]
     },
     "execution_count": 51,
     "metadata": {},
     "output_type": "execute_result"
    }
   ],
   "source": [
    "len(document_chunks)"
   ]
  },
  {
   "cell_type": "code",
   "execution_count": 52,
   "id": "3ce9cd49-11a8-40f1-8860-25d1ec67fa22",
   "metadata": {},
   "outputs": [
    {
     "name": "stdout",
     "output_type": "stream",
     "text": [
      "I am sorry, but based on the text you provided, there are no \"Audit & Inspection Rights\" clauses.\n",
      "-------------------\n",
      "5.7 Audit Rights.  shall have the right, but not the obligation, to audit the Facility, including the systems and standard operating procedures used to manufacture API for , to assess ’s compliance with cGMP and the requirements of this Agreement.  shall have the right, but not the obligation, to audit ’s Third Party Suppliers and Subcontractors to assess their compliance with cGMP and the requirements of this Agreement.  may exercise such audit rights upon reasonable advance notice to  and at reasonable times and intervals.  shall bear the cost of any such audits, unless a material breach of cGMP or this Agreement is discovered during any such audit, in which case  shall bear the reasonable cost of such audit.  shall have the right to be present during any audit of a Third Party Supplier or Subcontractor.\n",
      "-------------------\n",
      "I am sorry, but there are no \"Audit & Inspection Rights\" clauses in the text provided.\n",
      "-------------------\n",
      "Within [***] from the date of receipt of written notice of any API Price change,  may request  to provide its API Price adjustment records to an independent, mutually agreed upon, reputable certified public accounting firm, which will audit such records and certify whether the price adjustments notified by  are correct and in accordance with the methodology described in Schedule 3.1(e).\n",
      "-------------------\n",
      "I am unable to locate any clauses related to \"Audit & Inspection Rights\" in the provided text.\n",
      "-------------------\n",
      "(i) The Parties shall participate in project teleconferences with each other as reasonably requested by the other Party to successfully complete the Validation of the Initial Manufacturing Process. During development and Validation of the Initial Manufacturing Process,  will accommodate in person technical meetings at the Facility and technical inspections as reasonably requested by . Without limiting the foregoing, during process development and in support of API process characterization and Validation activities,  will be permitted to conduct reviews of the Facility and the pertinent records maintained by , subject to restriction on access to all  Confidential Information, in connection with the conduct of manufacturing, storage and testing of API, all upon ’s request and with reasonable notice to permit  to support such technical reviews.\n",
      "\n",
      "(b) Audits.  shall be responsible for selecting all Third Party Suppliers of materials for API and periodically performing audits of each such Material Third Party Supplier as necessary to ensure compliance with Section 5.5(a).  shall provide the results of any such audit, including copies of any reports prepared in connection with any such audit, within [***] of the audit’s completion.\n",
      "-------------------\n",
      "shall be responsible for selecting all Third Party Suppliers of materials for API and periodically performing audits of each such Material Third Party Supplier as necessary to ensure compliance with Section 5.5(a).  shall provide the results of any such audit, including copies of any reports prepared in connection with any such audit, within [***] of the audit’s completion.\n",
      "-------------------\n",
      "I am unable to find the \"Audit & Inspection Rights\" clause in the provided document.\n",
      "-------------------\n",
      "7.2 Establishment of cGMP Facility.\n",
      "(b)  shall have the right, pursuant to the audit procedures in Section 9.2, to have its Approved Representatives undertake a quality assurance audit of ’s procedures and facilities for API production as soon as practicable after the date the Expansion is completed.\n",
      "-------------------\n",
      "I am sorry, but I could not find any \"Audit & Inspection Rights\" clauses in the provided text.\n",
      "-------------------\n",
      "Article IX\n",
      "Information; Access; Audit Rights\n",
      "-------------------\n",
      "9.2 Audit and Inspection Rights. During the Term of this Agreement and thereafter during any applicable records retention period(s) under Section 9.3, Approved Representatives shall have the right, upon a prior written consent of , not to be unreasonably withheld or delayed, to audit and inspect those portions of the Facility (or the facility of a Material Third Party Supplier or Subcontractor, as the case may be) used in, and those documents and records related to, the manufacture, generation, storage, testing, treatment, holding, transportation, distribution or other handling or receiving of the API and Third Party Materials.\n",
      "During such inspections, Approved Representatives shall have the right to audit and inspect all inventory of API and Third Party Materials contained at the Facility (or the facility of a Material Third Party Supplier or Subcontractor, as the case may be).\n",
      "-------------------\n",
      "There are no clauses related to \"Audit & Inspection Rights\" in the provided text.\n",
      "-------------------\n",
      "I am unable to find any clauses related to \"Audit & Inspection Rights\" in the provided text.\n",
      "-------------------\n",
      "I am sorry, but there are no \"Audit & Inspection Rights\" clauses within the provided text.\n",
      "-------------------\n",
      "No clause in the provided text explicitly grants audit or inspection rights.\n",
      "-------------------\n",
      "There are no clauses related to \"Audit & Inspection Rights\" in the provided text.\n",
      "-------------------\n"
     ]
    }
   ],
   "source": [
    "sup_document_text_list = load_and_chunk_document(docx_path)\n",
    "\n",
    "sup_result_list = []\n",
    "\n",
    "\n",
    "for sup_doc in sup_document_text_list:\n",
    "\n",
    "    su_messages = {\n",
    "            \"messages\": [\n",
    "                {\n",
    "                    \"role\": \"user\",\n",
    "                    \"content\": sup_doc\n",
    "                }\n",
    "            ]\n",
    "        }\n",
    "    \n",
    "    \n",
    "    sup_result = Audit_Inspection_Extraction_Agent.invoke(su_messages)\n",
    "    \n",
    "    sup_result_content = sup_result[\"messages\"][-1].content\n",
    "    sup_result_list.append(sup_result_content)\n",
    "    print(sup_result_content)\n",
    "    print(\"-------------------\")"
   ]
  },
  {
   "cell_type": "code",
   "execution_count": 53,
   "id": "6e90946e-d34e-447e-a401-c7b6e7412f4c",
   "metadata": {},
   "outputs": [
    {
     "name": "stdout",
     "output_type": "stream",
     "text": [
      "7.2 Establishment of cGMP Facility.\n",
      "(b)  shall have the right, pursuant to the audit procedures in Section 9.2, to have its Approved Representatives undertake a quality assurance audit of ’s procedures and facilities for API production as soon as practicable after the date the Expansion is completed.\n",
      "-------------------\n",
      "I am sorry, but I could not find any clauses related to \"Audit & Inspection Rights\" in the provided document.\n",
      "-------------------\n",
      "Article IX\n",
      "Information; Access; Audit Rights\n",
      "-------------------\n",
      "9.2 Audit and Inspection Rights. During the Term of this Agreement and thereafter during any applicable records retention period(s) under Section 9.3, Approved Representatives shall have the right, upon a prior written consent of , not to be unreasonably withheld or delayed, to audit and inspect those portions of the Facility (or the facility of a Material Third Party Supplier or Subcontractor, as the case may be) used in, and those documents and records related to, the manufacture, generation, storage, testing, treatment, holding, transportation, distribution or other handling or receiving of the API and Third Party Materials.\n",
      "\n",
      "During such inspections, Approved Representatives shall have the right to audit and inspect all inventory of API and Third Party Materials contained at the Facility (or the facility of a Material Third Party Supplier or Subcontractor, as the case may be).\n",
      "-------------------\n",
      "I am unable to find any clauses related to \"Audit & Inspection Rights\" in the provided text.\n",
      "-------------------\n",
      "I am unable to locate any clauses related to \"Audit & Inspection Rights\" within the provided document.\n",
      "-------------------\n",
      "I am sorry, but there is no \"Audit & Inspection Rights\" clause in the provided text.\n",
      "-------------------\n",
      "No clause in the provided text explicitly grants audit or inspection rights.\n",
      "-------------------\n",
      "I am sorry, but there are no clauses related to \"Audit & Inspection Rights\" in the provided text.\n",
      "-------------------\n"
     ]
    }
   ],
   "source": [
    "# sup_document_text_list = load_and_chunk_document(docx_path)\n",
    "\n",
    "sup_result_list_1 = []\n",
    "\n",
    "\n",
    "for sup_doc in sup_document_text_list[8:]:\n",
    "\n",
    "    su_messages = {\n",
    "            \"messages\": [\n",
    "                {\n",
    "                    \"role\": \"user\",\n",
    "                    \"content\": sup_doc\n",
    "                }\n",
    "            ]\n",
    "        }\n",
    "    \n",
    "    \n",
    "    sup_result_1 = Audit_Inspection_Extraction_Agent.invoke(su_messages)\n",
    "    \n",
    "    sup_result_content_1 = sup_result_1[\"messages\"][-1].content\n",
    "    sup_result_list_1.append(sup_result_content_1)\n",
    "    print(sup_result_content_1)\n",
    "    print(\"-------------------\")"
   ]
  },
  {
   "cell_type": "code",
   "execution_count": null,
   "id": "74d0e318-4c2e-49ca-ba62-b44d0f16901f",
   "metadata": {},
   "outputs": [],
   "source": []
  },
  {
   "cell_type": "code",
   "execution_count": 39,
   "id": "9392bd6d-2646-4030-812a-81671214249c",
   "metadata": {
    "scrolled": true
   },
   "outputs": [],
   "source": [
    "# Function to save extracted clauses to an Excel file\n",
    "def save_to_excel(extracted_text, output_path=\"Extracted_Audit_Clauses.xlsx\"):\n",
    "    df = pd.DataFrame({\"Extracted Content\": [extracted_text]})\n",
    "    df.to_excel(output_path, index=False)\n",
    "    print(f\" Extracted clauses saved to: {output_path}\")\n",
    "\n",
    "    \n",
    "# Function to extract and validate clauses\n",
    "def process_contract(docx_path):\n",
    "    document_text = load_and_chunk_document(docx_path)[12]\n",
    "    \n",
    "    \n",
    "    messages = {\n",
    "        \"messages\": [\n",
    "            {\n",
    "                \"role\": \"user\",\n",
    "                \"content\": document_text\n",
    "            }\n",
    "        ]\n",
    "    }\n",
    "    \n",
    "    \n",
    "    validated_clauses = app.invoke(messages)\n",
    "\n",
    "    return validated_clauses\n",
    "    \n",
    "    # Step 3: Save to Excel\n",
    "    # save_to_excel(validated_clauses)\n",
    "\n",
    "\n",
    "\n",
    "\n",
    "\n",
    "result = process_contract(docx_path)\n",
    "\n",
    "\n",
    "# for m in result[\"messages\"]:\n",
    "#     m.pretty_print()"
   ]
  },
  {
   "cell_type": "code",
   "execution_count": 40,
   "id": "2a3d737f-6cbd-40c7-aa98-11b3ad3113ff",
   "metadata": {},
   "outputs": [
    {
     "name": "stdout",
     "output_type": "stream",
     "text": [
      "================================\u001b[1m Human Message \u001b[0m=================================\n",
      "\n",
      "(d) Duties. In performing its duties under this Section 5.4,  shall perform the following tasks, consistent with the Quality Agreement:\n",
      "(i) implement and operate an ICH complaint stability program;\n",
      "(ii) notify ’s head of regulatory affairs, or his or her designee, promptly, but within not more than [***], if any batch of API fails any stability tests; and\n",
      "(iii) report to ’s head of regulatory affairs, or his or her designee, promptly, but within not more than [***], any Nonconformity, significant atypical results, deviations or adverse trends exhibited during final release or stability testing.\n",
      "(e) Manufacturing Process Review. At either Party’s reasonable request, the Parties shall promptly meet, in person or telephonically, for the purpose of reviewing such matters related to manufacturing of the API as may be specified by a Party, including discussing strategies for improving the API manufacturing processes.\n",
      "(f) Confidential Information. Notwithstanding anything to the contrary contained in this Agreement,  may redact or limit from any deliveries of or access to data, reports or any other information to  any Third Party confidential information or  Confidential Information, at ’s sole discretion; provided, however, that  may not redact or limit any  Confidential Information that is reasonably necessary for  to comply with all Legal Requirements. In this regard, the Parties agree that all process information related to the manufacture of API, whether contained in a DMF or otherwise, shall, subject to Section 13.4, constitute  Confidential Information and shall not be disclosed to  under any circumstances, notwithstanding anything herein to the contrary; provided, however,  shall provide the relevant Governmental Body with all information necessary to support ’s Drug Application filings in a timely manner. Furthermore, for the avoidance of doubt, subject to Section 13.4, all information provided to  under this Section 5.4 is  Confidential Information and nothing in this Section 5.4 shall be construed as giving  any right to use or disclose (A) any  Intellectual Property (except as may be permitted by any express license from ), or (B) any  Confidential Information (except as may be permitted under Article XIII hereof).\n",
      "5.5 Third Party Materials.\n",
      "(a) General.  shall be responsible for procuring, inspecting, testing and releasing adequate Third Party Materials that comply with cGMP and this Agreement as necessary to meet a Purchase Order for API.  shall perform all testing of Third Party Materials required by the applicable API Specifications, cGMP, Legal Requirements, this Agreement and the Quality Agreement.\n",
      "16\n",
      "(b) Audits.  shall be responsible for selecting all Third Party Suppliers of materials for API and periodically performing audits of each such Material Third Party Supplier as necessary to ensure compliance with Section 5.5(a).  shall provide the results of any such audit, including copies of any reports prepared in connection with any such audit, within [***] of the audit’s completion.\n",
      "(c) Materials Certifications.  shall prepare or cause to be prepared by its Third Party Suppliers all certifications as to any Third Party Materials required by cGMPs or Legal Requirements.\n",
      "5.6 Quality Agreement. Within [***] following the Effective Date, the Parties shall enter into a quality agreement with such scope, terms and conditions as are customary within the pharmaceutical industry (such agreement, the “Quality Agreement”). In the event of a conflict between any of the provisions of this Agreement and the Quality Agreement, the provisions of this Agreement shall govern.\n",
      "5.7 Compliance with Specifications, cGMPs and Legal Requirements.  shall be responsible for identifying and implementing, in accordance with its obligations under Section 5.1, any actions required to bring , Material Third Party Suppliers and Third Party Suppliers of starting materials for the Compound into compliance with API Specifications, cGMPs and Legal Requirements.  shall implement any such changes as soon as reasonably practicable (even if, in the case of cGMPs and Legal Requirements, a later effective date is specified), unless the required effective date for implementing such change falls after the effective date of any termination of this Agreement for which notice has been previously given.\n",
      "Article VI\n",
      "Testing and Quality Assurance\n",
      "6.1 Quality Assurance; Quality Control; Retains.\n",
      "==================================\u001b[1m Ai Message \u001b[0m==================================\n",
      "Name: supervisor\n",
      "Tool Calls:\n",
      "  transfer_to_audit_inspection_extraction_agent (e737db50-24ca-46d7-aed1-73d3aee1b92a)\n",
      " Call ID: e737db50-24ca-46d7-aed1-73d3aee1b92a\n",
      "  Args:\n",
      "=================================\u001b[1m Tool Message \u001b[0m=================================\n",
      "Name: transfer_to_audit_inspection_extraction_agent\n",
      "\n",
      "Successfully transferred to Audit Inspection Extraction Agent\n",
      "==================================\u001b[1m Ai Message \u001b[0m==================================\n",
      "Name: Audit Inspection Extraction Agent\n",
      "\n",
      "```tool_code\n",
      "print(audit_inspection_extraction.extract_clauses(document=\"\"\"(d) Duties. In performing its duties under this Section 5.4,  shall perform the following tasks, consistent with the Quality Agreement:\n",
      "(i) implement and operate an ICH complaint stability program;\n",
      "(ii) notify ’s head of regulatory affairs, or his or her designee, promptly, but within not more than [***], if any batch of API fails any stability tests; and\n",
      "(iii) report to ’s head of regulatory affairs, or his or her designee, promptly, but within not more than [***], any Nonconformity, significant atypical results, deviations or adverse trends exhibited during final release or stability testing.\n",
      "(e) Manufacturing Process Review. At either Party’s reasonable request, the Parties shall promptly meet, in person or telephonically, for the purpose of reviewing such matters related to manufacturing of the API as may be specified by a Party, including discussing strategies for improving the API manufacturing processes.\n",
      "(f) Confidential Information. Notwithstanding anything to the contrary contained in this Agreement,  may redact or limit from any deliveries of or access to data, reports or any other information to  any Third Party confidential information or  Confidential Information, at ’s sole discretion; provided, however, that  may not redact or limit any  Confidential Information that is reasonably necessary for  to comply with all Legal Requirements. In this regard, the Parties agree that all process information related to the manufacture of API, whether contained in a DMF or otherwise, shall, subject to Section 13.4, constitute  Confidential Information and shall not be disclosed to  under any circumstances, notwithstanding anything herein to the contrary; provided, however,  shall provide the relevant Governmental Body with all information necessary to support ’s Drug Application filings in a timely manner. Furthermore, for the avoidance of doubt, subject to Section 13.4, all information provided to  under this Section 5.4 is  Confidential Information and nothing in this Section 5.4 shall be construed as giving  any right to use or disclose (A) any  Intellectual Property (except as may be permitted by any express license from ), or (B) any  Confidential Information (except as may be permitted under Article XIII hereof).\n",
      "5.5 Third Party Materials.\n",
      "(a) General.  shall be responsible for procuring, inspecting, testing and releasing adequate Third Party Materials that comply with cGMP and this Agreement as necessary to meet a Purchase Order for API.  shall perform all testing of Third Party Materials required by the applicable API Specifications, cGMP, Legal Requirements, this Agreement and the Quality Agreement.\n",
      "16\n",
      "(b) Audits.  shall be responsible for selecting all Third Party Suppliers of materials for API and periodically performing audits of each such Material Third Party Supplier as necessary to ensure compliance with Section 5.5(a).  shall provide the results of any such audit, including copies of any reports prepared in connection with any such audit, within [***] of the audit’s completion.\n",
      "(c) Materials Certifications.  shall prepare or cause to be prepared by its Third Party Suppliers all certifications as to any Third Party Materials required by cGMPs or Legal Requirements.\n",
      "5.6 Quality Agreement. Within [***] following the Effective Date, the Parties shall enter into a quality agreement with such scope, terms and conditions as are customary within the pharmaceutical industry (such agreement, the “Quality Agreement”). In the event of a conflict between any of the provisions of this Agreement and the Quality Agreement, the provisions of this Agreement shall govern.\n",
      "5.7 Compliance with Specifications, cGMPs and Legal Requirements.  shall be responsible for identifying and implementing, in accordance with its obligations under Section 5.1, any actions required to bring , Material Third Party Suppliers and Third Party Suppliers of starting materials for the Compound into compliance with API Specifications, cGMPs and Legal Requirements.  shall implement any such changes as soon as reasonably practicable (even if, in the case of cGMPs and Legal Requirements, a later effective date is specified), unless the required effective date for implementing such change falls after the effective date of any termination of this Agreement for which notice has been previously given.\n",
      "Article VI\n",
      "Testing and Quality Assurance\n",
      "6.1 Quality Assurance; Quality Control; Retains.\"\"\"))\n",
      "```\n",
      "==================================\u001b[1m Ai Message \u001b[0m==================================\n",
      "Name: Audit Inspection Extraction Agent\n",
      "\n",
      "Transferring back to supervisor\n",
      "Tool Calls:\n",
      "  transfer_back_to_supervisor (02012900-b021-4cb0-9e7a-db03b445b789)\n",
      " Call ID: 02012900-b021-4cb0-9e7a-db03b445b789\n",
      "  Args:\n",
      "=================================\u001b[1m Tool Message \u001b[0m=================================\n",
      "Name: transfer_back_to_supervisor\n",
      "\n",
      "Successfully transferred back to supervisor\n",
      "==================================\u001b[1m Ai Message \u001b[0m==================================\n",
      "Name: supervisor\n",
      "Tool Calls:\n",
      "  transfer_to_feature_check_agent (1525650d-fd19-4568-bef6-a074f84c1246)\n",
      " Call ID: 1525650d-fd19-4568-bef6-a074f84c1246\n",
      "  Args:\n",
      "=================================\u001b[1m Tool Message \u001b[0m=================================\n",
      "Name: transfer_to_feature_check_agent\n",
      "\n",
      "Successfully transferred to Feature Check Agent\n",
      "==================================\u001b[1m Ai Message \u001b[0m==================================\n",
      "Name: Feature Check Agent\n",
      "\n",
      "```tool_code\n",
      "print(feature_check.extract_clauses(document=\"(b) Audits.  shall be responsible for selecting all Third Party Suppliers of materials for API and periodically performing audits of each such Material Third Party Supplier as necessary to ensure compliance with Section 5.5(a).  shall provide the results of any such audit, including copies of any reports prepared in connection with any such audit, within [***] of the audit’s completion.\"))\n",
      "```\n",
      "==================================\u001b[1m Ai Message \u001b[0m==================================\n",
      "Name: Feature Check Agent\n",
      "\n",
      "Transferring back to supervisor\n",
      "Tool Calls:\n",
      "  transfer_back_to_supervisor (befb3ed7-60d9-4214-9947-6cfb32706215)\n",
      " Call ID: befb3ed7-60d9-4214-9947-6cfb32706215\n",
      "  Args:\n",
      "=================================\u001b[1m Tool Message \u001b[0m=================================\n",
      "Name: transfer_back_to_supervisor\n",
      "\n",
      "Successfully transferred back to supervisor\n",
      "==================================\u001b[1m Ai Message \u001b[0m==================================\n",
      "Name: supervisor\n",
      "Tool Calls:\n",
      "  transfer_to_exclusion_filter_agent (8a1b2a16-edf3-4d03-971e-849aa28a2e3d)\n",
      " Call ID: 8a1b2a16-edf3-4d03-971e-849aa28a2e3d\n",
      "  Args:\n",
      "=================================\u001b[1m Tool Message \u001b[0m=================================\n",
      "Name: transfer_to_exclusion_filter_agent\n",
      "\n",
      "Successfully transferred to Exclusion Filter Agent\n",
      "==================================\u001b[1m Ai Message \u001b[0m==================================\n",
      "Name: Exclusion Filter Agent\n",
      "\n",
      "```tool_code\n",
      "print(exclusion_filter.filter_clauses(clauses=[\"(b) Audits.  shall be responsible for selecting all Third Party Suppliers of materials for API and periodically performing audits of each such Material Third Party Supplier as necessary to ensure compliance with Section 5.5(a).  shall provide the results of any such audit, including copies of any reports prepared in connection with any such audit, within [***] of the audit’s completion.\"], exclusions=[\"Governmental or regulatory audits and inspections.\", \"Inspection rights on the delivery of products, especially those related to acceptance testing.\", \"Definitions of the term \\\"auditor.\\\"\"]))\n",
      "```\n",
      "==================================\u001b[1m Ai Message \u001b[0m==================================\n",
      "Name: Exclusion Filter Agent\n",
      "\n",
      "Transferring back to supervisor\n",
      "Tool Calls:\n",
      "  transfer_back_to_supervisor (335d3b30-4b6d-4080-9e37-dea520d3f0df)\n",
      " Call ID: 335d3b30-4b6d-4080-9e37-dea520d3f0df\n",
      "  Args:\n",
      "=================================\u001b[1m Tool Message \u001b[0m=================================\n",
      "Name: transfer_back_to_supervisor\n",
      "\n",
      "Successfully transferred back to supervisor\n",
      "==================================\u001b[1m Ai Message \u001b[0m==================================\n",
      "Name: supervisor\n",
      "\n",
      "(b) Audits. shall be responsible for selecting all Third Party Suppliers of materials for API and periodically performing audits of each such Material Third Party Supplier as necessary to ensure compliance with Section 5.5(a). shall provide the results of any such audit, including copies of any reports prepared in connection with any such audit, within [***] of the audit’s completion.\n"
     ]
    }
   ],
   "source": [
    "for m in result[\"messages\"]:\n",
    "    m.pretty_print()"
   ]
  },
  {
   "cell_type": "code",
   "execution_count": null,
   "id": "a91020a6-30c4-483b-8004-dc998c4adcad",
   "metadata": {},
   "outputs": [],
   "source": []
  },
  {
   "cell_type": "code",
   "execution_count": null,
   "id": "d41076bf-ba2b-4792-b1b3-12c0a9ba0a48",
   "metadata": {},
   "outputs": [],
   "source": []
  },
  {
   "cell_type": "code",
   "execution_count": null,
   "id": "54251d8e-cac6-4be5-a209-09ae7f4b44eb",
   "metadata": {},
   "outputs": [],
   "source": []
  },
  {
   "cell_type": "code",
   "execution_count": null,
   "id": "b1be551e-a886-4dd4-84b1-bd87e9759157",
   "metadata": {},
   "outputs": [],
   "source": []
  },
  {
   "cell_type": "code",
   "execution_count": 20,
   "id": "0e3057c3-0b47-431e-aac0-1148b1dc5f06",
   "metadata": {},
   "outputs": [
    {
     "data": {
      "text/plain": [
       "34"
      ]
     },
     "execution_count": 20,
     "metadata": {},
     "output_type": "execute_result"
    }
   ],
   "source": [
    "len(document_chunks)\n"
   ]
  },
  {
   "cell_type": "markdown",
   "id": "51048e79-49d0-45ae-9f5e-bd17c9f72e4f",
   "metadata": {},
   "source": [
    "# Manual Chaining fo Agents"
   ]
  },
  {
   "cell_type": "markdown",
   "id": "3d138fad-6954-4342-a295-1bf5b449ffb7",
   "metadata": {},
   "source": [
    "## Start with the Audit_Inspection_Extraction_Agent"
   ]
  },
  {
   "cell_type": "code",
   "execution_count": 55,
   "id": "96a1263c-27de-44ea-a0ba-94d680442598",
   "metadata": {
    "scrolled": true
   },
   "outputs": [
    {
     "name": "stdout",
     "output_type": "stream",
     "text": [
      "NO CLAUSE FOUND\n",
      "-------------------\n",
      "NO CLAUSE FOUND\n",
      "-------------------\n",
      "NO CLAUSE FOUND\n",
      "-------------------\n",
      "NO CLAUSE FOUND\n",
      "-------------------\n",
      "NO CLAUSE FOUND\n",
      "-------------------\n",
      "NO CLAUSE FOUND\n",
      "-------------------\n",
      "NO CLAUSE FOUND\n",
      "-------------------\n",
      "NO CLAUSE FOUND\n",
      "-------------------\n",
      "Within [***] from the date of receipt of written notice of any API Price change,  may request  to provide its API Price adjustment records to an independent, mutually agreed upon, reputable certified public accounting firm, which will audit such records and certify whether the price adjustments notified by  are correct and in accordance with the methodology described in Schedule 3.1(e).\n",
      "-------------------\n",
      "NO CLAUSE FOUND\n",
      "-------------------\n"
     ]
    }
   ],
   "source": [
    "document_text_list = load_and_chunk_document(docx_path)\n",
    "\n",
    "result_list_1 = []\n",
    "\n",
    "\n",
    "for doc in document_text_list[:10]:\n",
    "\n",
    "    messages = {\n",
    "            \"messages\": [\n",
    "                {\n",
    "                    \"role\": \"user\",\n",
    "                    \"content\": doc\n",
    "                }\n",
    "            ]\n",
    "        }\n",
    "    \n",
    "    \n",
    "    result = Audit_Inspection_Extraction_Agent.invoke(messages)\n",
    "    \n",
    "    result_content = result[\"messages\"][-1].content\n",
    "    result_list_1.append(result_content)\n",
    "    print(result_content)\n",
    "    print(\"-------------------\")"
   ]
  },
  {
   "cell_type": "code",
   "execution_count": null,
   "id": "1d9b150f-8018-4635-9476-55e4693904a3",
   "metadata": {},
   "outputs": [],
   "source": []
  },
  {
   "cell_type": "code",
   "execution_count": 56,
   "id": "411083c8-e1b3-49d2-aca0-b9db53994617",
   "metadata": {},
   "outputs": [
    {
     "name": "stdout",
     "output_type": "stream",
     "text": [
      "NO CLAUSE FOUND\n",
      "-------------------\n",
      "(i) During development and Validation of the Initial Manufacturing Process,  will accommodate in person technical meetings at the Facility and technical inspections as reasonably requested by . Without limiting the foregoing, during process development and in support of API process characterization and Validation activities,  will be permitted to conduct reviews of the Facility and the pertinent records maintained by , subject to restriction on access to all  Confidential Information, in connection with the conduct of manufacturing, storage and testing of API, all upon ’s request and with reasonable notice to permit  to support such technical reviews.\n",
      "(iii) With the prior written consent of the other Party, a Party may engage in teleconferences, in person meetings, Facility reviews, quality assurance audits, records reviews and other activities under this Agreement through its (or its Affiliates’) employees or consultants with a bona fide need to know, but only to the extent necessary for the Party to exercise its rights and discharge its obligations under this Agreement, provided that (A) each such employee and consultant has executed a written confidentiality agreement containing use and disclosure restrictions at least as protective as those set forth in Article XIII, and (B) any  consultant shall be reasonably acceptable to  (such persons, “Approved Representatives”).\n",
      "-------------------\n",
      "```text\n",
      "(b) Audits.  shall be responsible for selecting all Third Party Suppliers of materials for API and periodically performing audits of each such Material Third Party Supplier as necessary to ensure compliance with Section 5.5(a).  shall provide the results of any such audit, including copies of any reports prepared in connection with any such audit, within [***] of the audit’s completion.\n",
      "```\n",
      "-------------------\n",
      "NO CLAUSE FOUND\n",
      "-------------------\n",
      "NO CLAUSE FOUND\n",
      "-------------------\n",
      "NO CLAUSE FOUND\n",
      "-------------------\n",
      "NO CLAUSE FOUND\n",
      "-------------------\n",
      "(b)  shall have the right, pursuant to the audit procedures in Section 9.2, to have its Approved Representatives undertake a quality assurance audit of ’s procedures and facilities for API production as soon as practicable after the date the Expansion is completed.\n",
      "-------------------\n",
      "NO CLAUSE FOUND\n",
      "-------------------\n",
      "NO CLAUSE FOUND\n",
      "-------------------\n"
     ]
    }
   ],
   "source": [
    "# document_text_list = load_and_chunk_document(docx_path)\n",
    "\n",
    "result_list_2 = []\n",
    "\n",
    "\n",
    "for doc in document_text_list[10:20]:\n",
    "\n",
    "    messages = {\n",
    "            \"messages\": [\n",
    "                {\n",
    "                    \"role\": \"user\",\n",
    "                    \"content\": doc\n",
    "                }\n",
    "            ]\n",
    "        }\n",
    "    \n",
    "    \n",
    "    result = Audit_Inspection_Extraction_Agent.invoke(messages)\n",
    "    \n",
    "    result_content = result[\"messages\"][-1].content\n",
    "    result_list_2.append(result_content)\n",
    "    print(result_content)\n",
    "    print(\"-------------------\")"
   ]
  },
  {
   "cell_type": "code",
   "execution_count": 58,
   "id": "7338baa2-262a-4fe0-bcf8-22ecd3b098d4",
   "metadata": {},
   "outputs": [
    {
     "name": "stdout",
     "output_type": "stream",
     "text": [
      "NO CLAUSE FOUND\n",
      "-------------------\n",
      "NO CLAUSE FOUND\n",
      "-------------------\n",
      "9.2 Audit and Inspection Rights. During the Term of this Agreement and thereafter during any applicable records retention period(s) under Section 9.3, Approved Representatives shall have the right, upon a prior written consent of , not to be unreasonably withheld or delayed, to audit and inspect those portions of the Facility (or the facility of a Material Third Party Supplier or Subcontractor, as the case may be) used in, and those documents and records related to, the manufacture, generation, storage, testing, treatment, holding, transportation, distribution or other handling or receiving of the API and Third Party Materials. Such audits may be conducted [***] each [***]; provided, however, that  may conduct additional “for cause” audits during a [***] to the extent  supplies Nonconforming API or in the event of Product complaints or Adverse Events caused by Nonconforming API.  may redact from such deliveries to  any Third Party confidential information or  Confidential Information. During such inspections, Approved Representatives shall have the right to audit and inspect all inventory of API and Third Party Materials contained at the Facility (or the facility of a Material Third Party Supplier or Subcontractor, as the case may be).  agrees to reasonably cooperate and assist  (and to require any Material Third Party Supplier or Subcontractor to cooperate and assist ) in connection with any audits or inspections pursuant to this Section 9.2. Audits or inspections under this Section 9.2 shall occur during business hours and shall be scheduled by Approved Representatives at least [***] in advance; provided, however, that, in the event of an Adverse Event or any proposed or actual inspection by the FDA or other Governmental Body (whether of  or a Material Third Party Supplier or Subcontractor) or other similar event or emergency involving any API or Third Party Materials, Approved Representatives shall have the right at any time, upon written notice to  (or any Material Third Party Supplier or Subcontractor) of [***], to conduct an audit or inspection of those affected portions of the Facility (or the facility of such Material Third Party Supplier or Subcontractor, as the case may be) used in the manufacture, generation, storage, testing, treatment, holding, transportation, distribution or other handling or receiving of API and Third Party Materials.  shall ensure that Approved Representatives have access to Material Third Party Supplier’s and Subcontractor’s facilities in the manner set forth in this Section 9.2.  shall as soon as practicable take any corrective action reasonably requested by  in connection with this Section 9.2.\n",
      "-------------------\n",
      "NO CLAUSE FOUND\n",
      "-------------------\n",
      "NO CLAUSE FOUND\n",
      "-------------------\n"
     ]
    }
   ],
   "source": [
    "# document_text_list = load_and_chunk_document(docx_path)\n",
    "\n",
    "result_list_3 = []\n",
    "\n",
    "\n",
    "for doc in document_text_list[20:25]:\n",
    "\n",
    "    messages = {\n",
    "            \"messages\": [\n",
    "                {\n",
    "                    \"role\": \"user\",\n",
    "                    \"content\": doc\n",
    "                }\n",
    "            ]\n",
    "        }\n",
    "    \n",
    "    \n",
    "    result = Audit_Inspection_Extraction_Agent.invoke(messages)\n",
    "    \n",
    "    result_content = result[\"messages\"][-1].content\n",
    "    result_list_3.append(result_content)\n",
    "    print(result_content)\n",
    "    print(\"-------------------\")"
   ]
  },
  {
   "cell_type": "code",
   "execution_count": 59,
   "id": "e6081cad-925c-4ead-8d37-f7688ab49f30",
   "metadata": {},
   "outputs": [
    {
     "name": "stdout",
     "output_type": "stream",
     "text": [
      "NO CLAUSE FOUND\n",
      "-------------------\n",
      "NO CLAUSE FOUND\n",
      "-------------------\n",
      "NO CLAUSE FOUND\n",
      "-------------------\n",
      "NO CLAUSE FOUND\n",
      "-------------------\n",
      "NO CLAUSE FOUND\n",
      "-------------------\n"
     ]
    }
   ],
   "source": [
    "# document_text_list = load_and_chunk_document(docx_path)\n",
    "\n",
    "result_list_4 = []\n",
    "\n",
    "\n",
    "for doc in document_text_list[25:30]:\n",
    "\n",
    "    messages = {\n",
    "            \"messages\": [\n",
    "                {\n",
    "                    \"role\": \"user\",\n",
    "                    \"content\": doc\n",
    "                }\n",
    "            ]\n",
    "        }\n",
    "    \n",
    "    \n",
    "    result = Audit_Inspection_Extraction_Agent.invoke(messages)\n",
    "    \n",
    "    result_content = result[\"messages\"][-1].content\n",
    "    result_list_4.append(result_content)\n",
    "    print(result_content)\n",
    "    print(\"-------------------\")"
   ]
  },
  {
   "cell_type": "code",
   "execution_count": 60,
   "id": "09106bc5-b155-4b23-97b8-e658f968fd9f",
   "metadata": {},
   "outputs": [
    {
     "name": "stdout",
     "output_type": "stream",
     "text": [
      "NO CLAUSE FOUND\n",
      "-------------------\n",
      "NO CLAUSE FOUND\n",
      "-------------------\n",
      "NO CLAUSE FOUND\n",
      "-------------------\n",
      "NO CLAUSE FOUND\n",
      "-------------------\n"
     ]
    }
   ],
   "source": [
    "# document_text_list = load_and_chunk_document(docx_path)\n",
    "\n",
    "result_list_5 = []\n",
    "\n",
    "\n",
    "for doc in document_text_list[30:]:\n",
    "\n",
    "    messages = {\n",
    "            \"messages\": [\n",
    "                {\n",
    "                    \"role\": \"user\",\n",
    "                    \"content\": doc\n",
    "                }\n",
    "            ]\n",
    "        }\n",
    "    \n",
    "    \n",
    "    result = Audit_Inspection_Extraction_Agent.invoke(messages)\n",
    "    \n",
    "    result_content = result[\"messages\"][-1].content\n",
    "    result_list_5.append(result_content)\n",
    "    print(result_content)\n",
    "    print(\"-------------------\")"
   ]
  },
  {
   "cell_type": "markdown",
   "id": "5174d98e-f987-4551-afb5-3f8b6099be9e",
   "metadata": {},
   "source": [
    "# Get all possible occurrences of “Audit & Inspection Rights” clause"
   ]
  },
  {
   "cell_type": "code",
   "execution_count": 63,
   "id": "2e657ff4-03ac-41f4-bede-cf57431b80b9",
   "metadata": {},
   "outputs": [
    {
     "name": "stdout",
     "output_type": "stream",
     "text": [
      "Within [***] from the date of receipt of written notice of any API Price change,  may request  to provide its API Price adjustment records to an independent, mutually agreed upon, reputable certified public accounting firm, which will audit such records and certify whether the price adjustments notified by  are correct and in accordance with the methodology described in Schedule 3.1(e).\n",
      "----------\n",
      "(i) During development and Validation of the Initial Manufacturing Process,  will accommodate in person technical meetings at the Facility and technical inspections as reasonably requested by . Without limiting the foregoing, during process development and in support of API process characterization and Validation activities,  will be permitted to conduct reviews of the Facility and the pertinent records maintained by , subject to restriction on access to all  Confidential Information, in connection with the conduct of manufacturing, storage and testing of API, all upon ’s request and with reasonable notice to permit  to support such technical reviews.\n",
      "(iii) With the prior written consent of the other Party, a Party may engage in teleconferences, in person meetings, Facility reviews, quality assurance audits, records reviews and other activities under this Agreement through its (or its Affiliates’) employees or consultants with a bona fide need to know, but only to the extent necessary for the Party to exercise its rights and discharge its obligations under this Agreement, provided that (A) each such employee and consultant has executed a written confidentiality agreement containing use and disclosure restrictions at least as protective as those set forth in Article XIII, and (B) any  consultant shall be reasonably acceptable to  (such persons, “Approved Representatives”).\n",
      "----------\n",
      "```text\n",
      "(b) Audits.  shall be responsible for selecting all Third Party Suppliers of materials for API and periodically performing audits of each such Material Third Party Supplier as necessary to ensure compliance with Section 5.5(a).  shall provide the results of any such audit, including copies of any reports prepared in connection with any such audit, within [***] of the audit’s completion.\n",
      "```\n",
      "----------\n",
      "(b)  shall have the right, pursuant to the audit procedures in Section 9.2, to have its Approved Representatives undertake a quality assurance audit of ’s procedures and facilities for API production as soon as practicable after the date the Expansion is completed.\n",
      "----------\n",
      "9.2 Audit and Inspection Rights. During the Term of this Agreement and thereafter during any applicable records retention period(s) under Section 9.3, Approved Representatives shall have the right, upon a prior written consent of , not to be unreasonably withheld or delayed, to audit and inspect those portions of the Facility (or the facility of a Material Third Party Supplier or Subcontractor, as the case may be) used in, and those documents and records related to, the manufacture, generation, storage, testing, treatment, holding, transportation, distribution or other handling or receiving of the API and Third Party Materials. Such audits may be conducted [***] each [***]; provided, however, that  may conduct additional “for cause” audits during a [***] to the extent  supplies Nonconforming API or in the event of Product complaints or Adverse Events caused by Nonconforming API.  may redact from such deliveries to  any Third Party confidential information or  Confidential Information. During such inspections, Approved Representatives shall have the right to audit and inspect all inventory of API and Third Party Materials contained at the Facility (or the facility of a Material Third Party Supplier or Subcontractor, as the case may be).  agrees to reasonably cooperate and assist  (and to require any Material Third Party Supplier or Subcontractor to cooperate and assist ) in connection with any audits or inspections pursuant to this Section 9.2. Audits or inspections under this Section 9.2 shall occur during business hours and shall be scheduled by Approved Representatives at least [***] in advance; provided, however, that, in the event of an Adverse Event or any proposed or actual inspection by the FDA or other Governmental Body (whether of  or a Material Third Party Supplier or Subcontractor) or other similar event or emergency involving any API or Third Party Materials, Approved Representatives shall have the right at any time, upon written notice to  (or any Material Third Party Supplier or Subcontractor) of [***], to conduct an audit or inspection of those affected portions of the Facility (or the facility of such Material Third Party Supplier or Subcontractor, as the case may be) used in the manufacture, generation, storage, testing, treatment, holding, transportation, distribution or other handling or receiving of API and Third Party Materials.  shall ensure that Approved Representatives have access to Material Third Party Supplier’s and Subcontractor’s facilities in the manner set forth in this Section 9.2.  shall as soon as practicable take any corrective action reasonably requested by  in connection with this Section 9.2.\n",
      "----------\n"
     ]
    }
   ],
   "source": [
    "def merge_valid_clauses(*lists):\n",
    "    \"\"\"Merges multiple lists while removing 'NO CLAUSE FOUND' entries.\"\"\"\n",
    "    final_list = []\n",
    "    \n",
    "    for result_list in lists:\n",
    "        for clause in result_list:\n",
    "            if clause.strip().lower() != \"no clause found\":  # Ignore invalid clauses\n",
    "                final_list.append(clause)\n",
    "\n",
    "    return final_list\n",
    "\n",
    "\n",
    "\n",
    "# Merge lists while filtering out \"NO CLAUSE FOUND\"\n",
    "final_result_list = merge_valid_clauses(result_list_1, result_list_2, result_list_3, result_list_4, result_list_5)\n",
    "\n",
    "#  final merged list\n",
    "for cl in final_result_list:\n",
    "    print(cl)\n",
    "    print(\"----------\")\n"
   ]
  },
  {
   "cell_type": "code",
   "execution_count": null,
   "id": "06ab9448-e00e-4587-aa32-f998c544d13f",
   "metadata": {},
   "outputs": [],
   "source": []
  },
  {
   "cell_type": "markdown",
   "id": "8e5210c4-f24f-4f8d-8535-8e60de02ced7",
   "metadata": {},
   "source": [
    "# Chain to Expected_key_clause_feature_agent"
   ]
  },
  {
   "cell_type": "code",
   "execution_count": 64,
   "id": "e8a061aa-9be1-4acb-9697-2e5cd2ca4fde",
   "metadata": {},
   "outputs": [
    {
     "name": "stdout",
     "output_type": "stream",
     "text": [
      "Within [***] from the date of receipt of written notice of any API Price change, may request to provide its API Price adjustment records to an independent, mutually agreed upon, reputable certified public accounting firm, which will audit such records and certify whether the price adjustments notified by are correct and in accordance with the methodology described in Schedule 3.1(e).\n",
      "-------------------\n",
      "(i) During development and Validation of the Initial Manufacturing Process, will accommodate in person technical meetings at the Facility and technical inspections as reasonably requested by . Without limiting the foregoing, during process development and in support of API process characterization and Validation activities, will be permitted to conduct reviews of the Facility and the pertinent records maintained by , subject to restriction on access to all Confidential Information, in connection with the conduct of manufacturing, storage and testing of API, all upon ’s request and with reasonable notice to permit to support such technical reviews.\n",
      "-------------------\n",
      "(b) Audits. shall be responsible for selecting all Third Party Suppliers of materials for API and periodically performing audits of each such Material Third Party Supplier as necessary to ensure compliance with Section 5.5(a). shall provide the results of any such audit, including copies of any reports prepared in connection with any such audit, within [***] of the audit’s completion.\n",
      "-------------------\n",
      "(b) shall have the right, pursuant to the audit procedures in Section 9.2, to have its Approved Representatives undertake a quality assurance audit of ’s procedures and facilities for API production as soon as practicable after the date the Expansion is completed.\n",
      "-------------------\n",
      "9.2 Audit and Inspection Rights. During the Term of this Agreement and thereafter during any applicable records retention period(s) under Section 9.3, Approved Representatives shall have the right, upon a prior written consent of , not to be unreasonably withheld or delayed, to audit and inspect those portions of the Facility (or the facility of a Material Third Party Supplier or Subcontractor, as the case may be) used in, and those documents and records related to, the manufacture, generation, storage, testing, treatment, holding, transportation, distribution or other handling or receiving of the API and Third Party Materials. Such audits may be conducted [***] each [***]; provided, however, that  may conduct additional “for cause” audits during a [***] to the extent  supplies Nonconforming API or in the event of Product complaints or Adverse Events caused by Nonconforming API.  may redact from such deliveries to  any Third Party confidential information or  Confidential Information. During such inspections, Approved Representatives shall have the right to audit and inspect all inventory of API and Third Party Materials contained at the Facility (or the facility of a Material Third Party Supplier or Subcontractor, as the case may be).  agrees to reasonably cooperate and assist  (and to require any Material Third Party Supplier or Subcontractor to cooperate and assist ) in connection with any audits or inspections pursuant to this Section 9.2. Audits or inspections under this Section 9.2 shall occur during business hours and shall be scheduled by Approved Representatives at least [***] in advance; provided, however, that, in the event of an Adverse Event or any proposed or actual inspection by the FDA or other Governmental Body (whether of  or a Material Third Party Supplier or Subcontractor) or other similar event or emergency involving any API or Third Party Materials, Approved Representatives shall have the right at any time, upon written notice to  (or any Material Third Party Supplier or Subcontractor) of [***], to conduct an audit or inspection of those affected portions of the Facility (or the facility of such Material Third Party Supplier or Subcontractor, as the case may be) used in the manufacture, generation, storage, testing, treatment, holding, transportation, distribution or other handling or receiving of API and Third Party Materials.  shall ensure that Approved Representatives have access to Material Third Party Supplier’s and Subcontractor’s facilities in the manner set forth in this Section 9.2.  shall as soon as practicable take any corrective action reasonably requested by  in connection with this Section 9.2.\n",
      "-------------------\n"
     ]
    }
   ],
   "source": [
    "\n",
    "exp_result_list = []\n",
    "\n",
    "\n",
    "for doc in final_result_list:\n",
    "\n",
    "    messages = {\n",
    "            \"messages\": [\n",
    "                {\n",
    "                    \"role\": \"user\",\n",
    "                    \"content\": doc\n",
    "                }\n",
    "            ]\n",
    "        }\n",
    "    \n",
    "    \n",
    "    result = Expected_key_clause_feature_agent.invoke(messages)\n",
    "    \n",
    "    result_content = result[\"messages\"][-1].content\n",
    "    exp_result_list.append(result_content)\n",
    "    print(result_content)\n",
    "    print(\"-------------------\")"
   ]
  },
  {
   "cell_type": "code",
   "execution_count": null,
   "id": "828c2617-e3c3-47ef-a3e8-c3074e850716",
   "metadata": {},
   "outputs": [],
   "source": []
  },
  {
   "cell_type": "markdown",
   "id": "a78e0482-e34f-46cd-b0e2-6dc3b7c7fa4f",
   "metadata": {},
   "source": [
    "# Chain to Exclude_clause_concepts_agent"
   ]
  },
  {
   "cell_type": "code",
   "execution_count": 65,
   "id": "4cc89348-abaf-484d-8742-a95921732fb2",
   "metadata": {},
   "outputs": [
    {
     "name": "stdout",
     "output_type": "stream",
     "text": [
      "Within [***] from the date of receipt of written notice of any API Price change, may request to provide its API Price adjustment records to an independent, mutually agreed upon, reputable certified public accounting firm, which will audit such records and certify whether the price adjustments notified by are correct and in accordance with the methodology described in Schedule 3.1(e).\n",
      "-------------------\n",
      "(i) During development and Validation of the Initial Manufacturing Process, will accommodate in person technical meetings at the Facility and technical inspections as reasonably requested by . Without limiting the foregoing, during process development and in support of API process characterization and Validation activities, will be permitted to conduct reviews of the Facility and the pertinent records maintained by , subject to restriction on access to all Confidential Information, in connection with the conduct of manufacturing, storage and testing of API, all upon ’s request and with reasonable notice to permit to support such technical reviews.\n",
      "-------------------\n",
      "(b) Audits. shall be responsible for selecting all Third Party Suppliers of materials for API and periodically performing audits of each such Material Third Party Supplier as necessary to ensure compliance with Section 5.5(a). shall provide the results of any such audit, including copies of any reports prepared in connection with any such audit, within [***] of the audit’s completion.\n",
      "-------------------\n",
      "(b) shall have the right, pursuant to the audit procedures in Section 9.2, to have its Approved Representatives undertake a quality assurance audit of ’s procedures and facilities for API production as soon as practicable after the date the Expansion is completed.\n",
      "-------------------\n",
      "9.2 Audit and Inspection Rights. During the Term of this Agreement and thereafter during any applicable records retention period(s) under Section 9.3, Approved Representatives shall have the right, upon a prior written consent of , not to be unreasonably withheld or delayed, to audit and inspect those portions of the Facility (or the facility of a Material Third Party Supplier or Subcontractor, as the case may be) used in, and those documents and records related to, the manufacture, generation, storage, testing, treatment, holding, transportation, distribution or other handling or receiving of the API and Third Party Materials. Such audits may be conducted [***] each [***]; provided, however, that  may conduct additional “for cause” audits during a [***] to the extent  supplies Nonconforming API or in the event of Product complaints or Adverse Events caused by Nonconforming API.  may redact from such deliveries to  any Third Party confidential information or  Confidential Information. During such inspections, Approved Representatives shall have the right to audit and inspect all inventory of API and Third Party Materials contained at the Facility (or the facility of a Material Third Party Supplier or Subcontractor, as the case may be).  agrees to reasonably cooperate and assist  (and to require any Material Third Party Supplier or Subcontractor to cooperate and assist ) in connection with any audits or inspections pursuant to this Section 9.2. Audits or inspections under this Section 9.2 shall occur during business hours and shall be scheduled by Approved Representatives at least [***] in advance; provided, however, that, in the event of an Adverse Event or any proposed or actual inspection by the FDA or other Governmental Body (whether of  or a Material Third Party Supplier or Subcontractor) or other similar event or emergency involving any API or Third Party Materials, Approved Representatives shall have the right at any time, upon written notice to  (or any Material Third Party Supplier or Subcontractor) of [***], to conduct an audit or inspection of those affected portions of the Facility (or the facility of such Material Third Party Supplier or Subcontractor, as the case may be) used in the manufacture, generation, storage, testing, treatment, holding, transportation, distribution or other handling or receiving of API and Third Party Materials.  shall ensure that Approved Representatives have access to Material Third Party Supplier’s and Subcontractor’s facilities in the manner set forth in this Section 9.2.  shall as soon as practicable take any corrective action reasonably requested by  in connection with this Section 9.2.\n",
      "-------------------\n"
     ]
    }
   ],
   "source": [
    "\n",
    "exclude_result_list = []\n",
    "\n",
    "\n",
    "for doc in exp_result_list:\n",
    "\n",
    "    messages = {\n",
    "            \"messages\": [\n",
    "                {\n",
    "                    \"role\": \"user\",\n",
    "                    \"content\": doc\n",
    "                }\n",
    "            ]\n",
    "        }\n",
    "    \n",
    "    \n",
    "    result = Exclude_clause_concepts_agent.invoke(messages)\n",
    "    \n",
    "    result_content = result[\"messages\"][-1].content\n",
    "    exclude_result_list.append(result_content)\n",
    "    print(result_content)\n",
    "    print(\"-------------------\")"
   ]
  },
  {
   "cell_type": "markdown",
   "id": "843418ad-4ce9-410d-98f1-a53680b924df",
   "metadata": {},
   "source": [
    "# save file to excel "
   ]
  },
  {
   "cell_type": "code",
   "execution_count": 70,
   "id": "c413d2b5-d2cb-4a19-9284-12422109aae4",
   "metadata": {},
   "outputs": [
    {
     "name": "stdout",
     "output_type": "stream",
     "text": [
      " Excel file saved: Extracted_Audit_Clauses.xlsx\n"
     ]
    }
   ],
   "source": [
    "import pandas as pd\n",
    "\n",
    "def save_list_to_excel(data_list, output_file=\"output.xlsx\"):\n",
    "    \"\"\"Converts a list to a Pandas DataFrame and saves it as an Excel file.\"\"\"\n",
    "    df = pd.DataFrame({\"Extracted Clauses\": data_list})  # Convert list to DataFrame\n",
    "    df.to_excel(output_file, index=False)  # Save to Excel\n",
    "    print(f\" Excel file saved: {output_file}\")\n",
    "\n",
    "\n",
    "\n",
    "# Save to Excel\n",
    "save_list_to_excel(exclude_result_list, \"Extracted_Audit_Clauses.xlsx\")\n"
   ]
  },
  {
   "cell_type": "code",
   "execution_count": null,
   "id": "60ea1755-b2e9-45e4-86cf-949a8bb4758a",
   "metadata": {},
   "outputs": [],
   "source": []
  },
  {
   "cell_type": "code",
   "execution_count": null,
   "id": "539567a9-33b2-4de3-b62b-847cfb7c5648",
   "metadata": {},
   "outputs": [],
   "source": []
  },
  {
   "cell_type": "code",
   "execution_count": null,
   "id": "5ad5ef54-ad0f-427b-aba5-3d8389800245",
   "metadata": {},
   "outputs": [],
   "source": []
  },
  {
   "cell_type": "code",
   "execution_count": null,
   "id": "94b45bbe-8cec-4ffc-80bd-3c86c8ffc8e6",
   "metadata": {},
   "outputs": [],
   "source": []
  },
  {
   "cell_type": "code",
   "execution_count": null,
   "id": "9573f01e-21c9-4c61-a444-a98c3f1e6285",
   "metadata": {},
   "outputs": [],
   "source": []
  },
  {
   "cell_type": "code",
   "execution_count": null,
   "id": "d31f073e-f318-4333-a2b6-15c15a60f7f6",
   "metadata": {},
   "outputs": [],
   "source": []
  },
  {
   "cell_type": "code",
   "execution_count": null,
   "id": "154ff51d-37b8-4b0d-bd44-07b575d4b529",
   "metadata": {},
   "outputs": [],
   "source": []
  },
  {
   "cell_type": "code",
   "execution_count": null,
   "id": "20605ce3-7bd4-4044-b122-e07a9fef83b7",
   "metadata": {},
   "outputs": [],
   "source": []
  },
  {
   "cell_type": "code",
   "execution_count": null,
   "id": "40d6ed48-48a3-4539-9983-f9d79c4a0f7b",
   "metadata": {},
   "outputs": [],
   "source": []
  },
  {
   "cell_type": "code",
   "execution_count": null,
   "id": "a41f4065-bc8f-4ef4-a1d2-210cc359bc14",
   "metadata": {},
   "outputs": [],
   "source": [
    "\n",
    "exclude_result_list_1 = []\n",
    "\n",
    "\n",
    "for doc in final_result_list:\n",
    "\n",
    "    messages = {\n",
    "            \"messages\": [\n",
    "                {\n",
    "                    \"role\": \"user\",\n",
    "                    \"content\": doc\n",
    "                }\n",
    "            ]\n",
    "        }\n",
    "    \n",
    "    \n",
    "    result = Exclude_clause_concepts_agent.invoke(messages)\n",
    "    \n",
    "    result_content = result[\"messages\"][-1].content\n",
    "    exclude_result_list_1.append(result_content)\n",
    "    print(result_content)\n",
    "    print(\"-------------------\")"
   ]
  },
  {
   "cell_type": "code",
   "execution_count": 288,
   "id": "0df8f8df-926d-401b-9daf-e01113ae5a5d",
   "metadata": {},
   "outputs": [],
   "source": [
    "\n",
    "\n",
    "messages_2 = {\n",
    "        \"messages\": [\n",
    "            {\n",
    "                \"role\": \"user\",\n",
    "                \"content\": result_2\n",
    "            }\n",
    "        ]\n",
    "    }"
   ]
  },
  {
   "cell_type": "code",
   "execution_count": 281,
   "id": "e56370a9-3674-4f10-b85f-3790bb925474",
   "metadata": {},
   "outputs": [],
   "source": [
    "result_3 = Expected_key_clause_feature_agent.invoke(messages_2)"
   ]
  },
  {
   "cell_type": "code",
   "execution_count": 282,
   "id": "6fca420d-040c-40f9-a9ed-b044cc0dc187",
   "metadata": {},
   "outputs": [
    {
     "data": {
      "text/plain": [
       "'quality assurance audits, records reviews and other activities under this Agreement through its (or its Affiliates’) employees or consultants with a bona fide need to know, but only to the extent necessary for the Party to exercise its rights and discharge its obligations under this Agreement,'"
      ]
     },
     "execution_count": 282,
     "metadata": {},
     "output_type": "execute_result"
    }
   ],
   "source": [
    "result_4 = result_3[\"messages\"][-1].content\n",
    "result_4"
   ]
  },
  {
   "cell_type": "code",
   "execution_count": 283,
   "id": "849f1104-7003-48ef-8c5f-b5b02d7c1df0",
   "metadata": {},
   "outputs": [
    {
     "data": {
      "text/plain": [
       "'quality assurance audits, records reviews and other activities under this Agreement through its (or its Affiliates’) employees or consultants with a bona fide need to know, but only to the extent necessary for the Party to exercise its rights and discharge its obligations under this Agreement,'"
      ]
     },
     "execution_count": 283,
     "metadata": {},
     "output_type": "execute_result"
    }
   ],
   "source": [
    "messages_3 = {\n",
    "        \"messages\": [\n",
    "            {\n",
    "                \"role\": \"user\",\n",
    "                \"content\": result_4\n",
    "            }\n",
    "        ]\n",
    "    }\n",
    "\n",
    "result_5 = Exclude_clause_concepts_agent.invoke(messages_3)\n",
    "\n",
    "result_6 = result_5[\"messages\"][-1].content\n",
    "result_6"
   ]
  },
  {
   "cell_type": "code",
   "execution_count": null,
   "id": "e80180fe-a4a2-4356-bdd7-32e2d1656934",
   "metadata": {},
   "outputs": [],
   "source": []
  },
  {
   "cell_type": "code",
   "execution_count": null,
   "id": "4386cab2-6f20-4327-983b-082f50d35ff7",
   "metadata": {},
   "outputs": [],
   "source": []
  },
  {
   "cell_type": "code",
   "execution_count": null,
   "id": "5f806723-13e2-4e95-900b-9cade15b329f",
   "metadata": {},
   "outputs": [],
   "source": []
  },
  {
   "cell_type": "code",
   "execution_count": null,
   "id": "e6e04ba7-ac48-4c61-a773-08bcaf776249",
   "metadata": {},
   "outputs": [],
   "source": []
  },
  {
   "cell_type": "code",
   "execution_count": null,
   "id": "7858301f-2359-4f14-ad93-3c566d572d34",
   "metadata": {},
   "outputs": [],
   "source": []
  },
  {
   "cell_type": "code",
   "execution_count": null,
   "id": "5de8e919-00b3-406f-ac67-5d314f0ed21d",
   "metadata": {},
   "outputs": [],
   "source": []
  },
  {
   "cell_type": "code",
   "execution_count": null,
   "id": "0dcec313-9bff-4be9-87f0-64c587e53044",
   "metadata": {},
   "outputs": [],
   "source": []
  },
  {
   "cell_type": "code",
   "execution_count": null,
   "id": "8659b74a-dff7-48a5-9894-35d7b57f7156",
   "metadata": {},
   "outputs": [],
   "source": []
  },
  {
   "cell_type": "code",
   "execution_count": null,
   "id": "e8ca9b8b-1ff9-4eae-b712-ba0e889d367f",
   "metadata": {},
   "outputs": [],
   "source": []
  },
  {
   "cell_type": "code",
   "execution_count": null,
   "id": "8e87de66-1c88-489a-906a-8801b1620c54",
   "metadata": {},
   "outputs": [],
   "source": []
  }
 ],
 "metadata": {
  "kernelspec": {
   "display_name": "Python (ai_env)",
   "language": "python",
   "name": "ai_env"
  },
  "language_info": {
   "codemirror_mode": {
    "name": "ipython",
    "version": 3
   },
   "file_extension": ".py",
   "mimetype": "text/x-python",
   "name": "python",
   "nbconvert_exporter": "python",
   "pygments_lexer": "ipython3",
   "version": "3.12.3"
  }
 },
 "nbformat": 4,
 "nbformat_minor": 5
}
